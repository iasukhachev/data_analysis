{
  "nbformat": 4,
  "nbformat_minor": 0,
  "metadata": {
    "kernelspec": {
      "display_name": "Python 3",
      "language": "python",
      "name": "python3"
    },
    "language_info": {
      "codemirror_mode": {
        "name": "ipython",
        "version": 3
      },
      "file_extension": ".py",
      "mimetype": "text/x-python",
      "name": "python",
      "nbconvert_exporter": "python",
      "pygments_lexer": "ipython3",
      "version": "3.8.5"
    },
    "colab": {
      "name": "hw04-sukhachev.ipynb",
      "provenance": [],
      "collapsed_sections": []
    }
  },
  "cells": [
    {
      "cell_type": "markdown",
      "metadata": {
        "id": "__ylSHOdpasD"
      },
      "source": [
        "## Интеллектуальный анализ данных – весна 2021\n",
        "## Домашнее задание 4: kNN. Линейные модели. Работа с признаками"
      ]
    },
    {
      "cell_type": "markdown",
      "metadata": {
        "id": "NbWh6UpDpasW"
      },
      "source": [
        "Правила:\n",
        "\n",
        "* Домашнее задание оценивается в 10 баллов.\n",
        "\n",
        "* Можно использовать без доказательства любые результаты, встречавшиеся на лекциях или семинарах по курсу, если получение этих результатов не является вопросом задания.\n",
        "\n",
        "* Можно использовать любые свободные источники с *обязательным* указанием ссылки на них.\n",
        "\n",
        "* Плагиат не допускается. При обнаружении случаев списывания, 0 за работу выставляется всем участникам нарушения, даже если можно установить, кто у кого списал.\n",
        "\n",
        "* Старайтесь сделать код как можно более оптимальным. В частности, будет штрафоваться использование циклов в тех случаях, когда операцию можно совершить при помощи инструментов библиотек, о которых рассказывалось в курсе.  "
      ]
    },
    {
      "cell_type": "markdown",
      "metadata": {
        "id": "af8Xil_qpase"
      },
      "source": [
        "### Задание 1:  Визуализация решающих поверхностей в kNN."
      ]
    },
    {
      "cell_type": "markdown",
      "metadata": {
        "id": "LpUQ83LWpasi"
      },
      "source": [
        "В этом задании мы изобразим решающую поверхность для классификатора kNN, чтобы наглядно увидеть, как классификатор принимает решения для новых объектов. Для простоты будем работать со встроенным в `sklearn` набором данных `wine`, содержащим информацию о характеристиках трёх видов вина. Описание набора можно найти [здесь](https://scikit-learn.org/stable/modules/generated/sklearn.datasets.load_wine.html#sklearn.datasets.load_wine) и [здесь](https://rdrr.io/cran/rattle.data/man/wine.html). "
      ]
    },
    {
      "cell_type": "markdown",
      "metadata": {
        "id": "HS6XgIOxpaso"
      },
      "source": [
        "Загрузим набор данных и сохраним информацию о признаках в переменную `X`, а о зависимой переменной – в переменную `y`."
      ]
    },
    {
      "cell_type": "code",
      "metadata": {
        "id": "DdXq4FGPpasq"
      },
      "source": [
        "import numpy as np\n",
        "import pandas as pd\n",
        "import matplotlib.pyplot as plt"
      ],
      "execution_count": null,
      "outputs": []
    },
    {
      "cell_type": "code",
      "metadata": {
        "colab": {
          "base_uri": "https://localhost:8080/",
          "height": 314
        },
        "id": "-JWGYmF5pasu",
        "outputId": "6e64b784-1ce6-4393-db0b-d2029c990b4d"
      },
      "source": [
        "from sklearn.datasets import load_wine\n",
        "\n",
        "data = load_wine()\n",
        "X = pd.DataFrame(data['data'], columns = data['feature_names'])\n",
        "y = data['target']\n",
        "X.head(8)"
      ],
      "execution_count": null,
      "outputs": [
        {
          "output_type": "execute_result",
          "data": {
            "text/html": [
              "<div>\n",
              "<style scoped>\n",
              "    .dataframe tbody tr th:only-of-type {\n",
              "        vertical-align: middle;\n",
              "    }\n",
              "\n",
              "    .dataframe tbody tr th {\n",
              "        vertical-align: top;\n",
              "    }\n",
              "\n",
              "    .dataframe thead th {\n",
              "        text-align: right;\n",
              "    }\n",
              "</style>\n",
              "<table border=\"1\" class=\"dataframe\">\n",
              "  <thead>\n",
              "    <tr style=\"text-align: right;\">\n",
              "      <th></th>\n",
              "      <th>alcohol</th>\n",
              "      <th>malic_acid</th>\n",
              "      <th>ash</th>\n",
              "      <th>alcalinity_of_ash</th>\n",
              "      <th>magnesium</th>\n",
              "      <th>total_phenols</th>\n",
              "      <th>flavanoids</th>\n",
              "      <th>nonflavanoid_phenols</th>\n",
              "      <th>proanthocyanins</th>\n",
              "      <th>color_intensity</th>\n",
              "      <th>hue</th>\n",
              "      <th>od280/od315_of_diluted_wines</th>\n",
              "      <th>proline</th>\n",
              "    </tr>\n",
              "  </thead>\n",
              "  <tbody>\n",
              "    <tr>\n",
              "      <th>0</th>\n",
              "      <td>14.23</td>\n",
              "      <td>1.71</td>\n",
              "      <td>2.43</td>\n",
              "      <td>15.6</td>\n",
              "      <td>127.0</td>\n",
              "      <td>2.80</td>\n",
              "      <td>3.06</td>\n",
              "      <td>0.28</td>\n",
              "      <td>2.29</td>\n",
              "      <td>5.64</td>\n",
              "      <td>1.04</td>\n",
              "      <td>3.92</td>\n",
              "      <td>1065.0</td>\n",
              "    </tr>\n",
              "    <tr>\n",
              "      <th>1</th>\n",
              "      <td>13.20</td>\n",
              "      <td>1.78</td>\n",
              "      <td>2.14</td>\n",
              "      <td>11.2</td>\n",
              "      <td>100.0</td>\n",
              "      <td>2.65</td>\n",
              "      <td>2.76</td>\n",
              "      <td>0.26</td>\n",
              "      <td>1.28</td>\n",
              "      <td>4.38</td>\n",
              "      <td>1.05</td>\n",
              "      <td>3.40</td>\n",
              "      <td>1050.0</td>\n",
              "    </tr>\n",
              "    <tr>\n",
              "      <th>2</th>\n",
              "      <td>13.16</td>\n",
              "      <td>2.36</td>\n",
              "      <td>2.67</td>\n",
              "      <td>18.6</td>\n",
              "      <td>101.0</td>\n",
              "      <td>2.80</td>\n",
              "      <td>3.24</td>\n",
              "      <td>0.30</td>\n",
              "      <td>2.81</td>\n",
              "      <td>5.68</td>\n",
              "      <td>1.03</td>\n",
              "      <td>3.17</td>\n",
              "      <td>1185.0</td>\n",
              "    </tr>\n",
              "    <tr>\n",
              "      <th>3</th>\n",
              "      <td>14.37</td>\n",
              "      <td>1.95</td>\n",
              "      <td>2.50</td>\n",
              "      <td>16.8</td>\n",
              "      <td>113.0</td>\n",
              "      <td>3.85</td>\n",
              "      <td>3.49</td>\n",
              "      <td>0.24</td>\n",
              "      <td>2.18</td>\n",
              "      <td>7.80</td>\n",
              "      <td>0.86</td>\n",
              "      <td>3.45</td>\n",
              "      <td>1480.0</td>\n",
              "    </tr>\n",
              "    <tr>\n",
              "      <th>4</th>\n",
              "      <td>13.24</td>\n",
              "      <td>2.59</td>\n",
              "      <td>2.87</td>\n",
              "      <td>21.0</td>\n",
              "      <td>118.0</td>\n",
              "      <td>2.80</td>\n",
              "      <td>2.69</td>\n",
              "      <td>0.39</td>\n",
              "      <td>1.82</td>\n",
              "      <td>4.32</td>\n",
              "      <td>1.04</td>\n",
              "      <td>2.93</td>\n",
              "      <td>735.0</td>\n",
              "    </tr>\n",
              "    <tr>\n",
              "      <th>5</th>\n",
              "      <td>14.20</td>\n",
              "      <td>1.76</td>\n",
              "      <td>2.45</td>\n",
              "      <td>15.2</td>\n",
              "      <td>112.0</td>\n",
              "      <td>3.27</td>\n",
              "      <td>3.39</td>\n",
              "      <td>0.34</td>\n",
              "      <td>1.97</td>\n",
              "      <td>6.75</td>\n",
              "      <td>1.05</td>\n",
              "      <td>2.85</td>\n",
              "      <td>1450.0</td>\n",
              "    </tr>\n",
              "    <tr>\n",
              "      <th>6</th>\n",
              "      <td>14.39</td>\n",
              "      <td>1.87</td>\n",
              "      <td>2.45</td>\n",
              "      <td>14.6</td>\n",
              "      <td>96.0</td>\n",
              "      <td>2.50</td>\n",
              "      <td>2.52</td>\n",
              "      <td>0.30</td>\n",
              "      <td>1.98</td>\n",
              "      <td>5.25</td>\n",
              "      <td>1.02</td>\n",
              "      <td>3.58</td>\n",
              "      <td>1290.0</td>\n",
              "    </tr>\n",
              "    <tr>\n",
              "      <th>7</th>\n",
              "      <td>14.06</td>\n",
              "      <td>2.15</td>\n",
              "      <td>2.61</td>\n",
              "      <td>17.6</td>\n",
              "      <td>121.0</td>\n",
              "      <td>2.60</td>\n",
              "      <td>2.51</td>\n",
              "      <td>0.31</td>\n",
              "      <td>1.25</td>\n",
              "      <td>5.05</td>\n",
              "      <td>1.06</td>\n",
              "      <td>3.58</td>\n",
              "      <td>1295.0</td>\n",
              "    </tr>\n",
              "  </tbody>\n",
              "</table>\n",
              "</div>"
            ],
            "text/plain": [
              "   alcohol  malic_acid   ash  ...   hue  od280/od315_of_diluted_wines  proline\n",
              "0    14.23        1.71  2.43  ...  1.04                          3.92   1065.0\n",
              "1    13.20        1.78  2.14  ...  1.05                          3.40   1050.0\n",
              "2    13.16        2.36  2.67  ...  1.03                          3.17   1185.0\n",
              "3    14.37        1.95  2.50  ...  0.86                          3.45   1480.0\n",
              "4    13.24        2.59  2.87  ...  1.04                          2.93    735.0\n",
              "5    14.20        1.76  2.45  ...  1.05                          2.85   1450.0\n",
              "6    14.39        1.87  2.45  ...  1.02                          3.58   1290.0\n",
              "7    14.06        2.15  2.61  ...  1.06                          3.58   1295.0\n",
              "\n",
              "[8 rows x 13 columns]"
            ]
          },
          "metadata": {
            "tags": []
          },
          "execution_count": 4
        }
      ]
    },
    {
      "cell_type": "markdown",
      "metadata": {
        "id": "G6Evs3Fjpas4"
      },
      "source": [
        "**Задача 1.1 (0.5 балла)** Есть ли в наборе данных пропущенные значения? Если да, то удалите их. Есть ли в наборе данных категориальные переменные? Если да, то закодируйте их при помощи OneHot-кодирования."
      ]
    },
    {
      "cell_type": "code",
      "metadata": {
        "colab": {
          "base_uri": "https://localhost:8080/"
        },
        "id": "4KGgarvTpas7",
        "outputId": "e08d59c7-27e2-4ae3-e2d5-c9fa38ab29e2"
      },
      "source": [
        "X.isnull().sum()\n",
        "# пропусков в X нет\n",
        "len(y)\n",
        "# пропусков в y нет\n",
        "# у нас чистый датасет с отсутствием категориальных переменных\n",
        "\n",
        "from sklearn.impute import SimpleImputer\n",
        "print((X.dtypes == \"object\").values)\n",
        "# Проверка на наличие категориальных признаков пройдена, визуально и по описанию их тоже нет \n"
      ],
      "execution_count": null,
      "outputs": [
        {
          "output_type": "stream",
          "text": [
            "[False False False False False False False False False False False False\n",
            " False]\n"
          ],
          "name": "stdout"
        }
      ]
    },
    {
      "cell_type": "markdown",
      "metadata": {
        "id": "-WfS5deTpas9"
      },
      "source": [
        "**Задача 1.2 (0.5 балла)** Используя функцию `train_test_split()`, разделите выборку на тренировочную и тестовую, и долю тестовой выборки задайте равной 0.3. Так как разбиение осуществляется случайным образом, не забудьте зафиксировать `np.random.seed()` для воспроизводимости результатов."
      ]
    },
    {
      "cell_type": "code",
      "metadata": {
        "id": "xSaFBkCMpatA"
      },
      "source": [
        "from sklearn.model_selection import train_test_split\n",
        "np.random.seed(0)\n",
        "\n",
        "X_train, X_test, y_train, y_test = train_test_split(X, y, test_size=0.3, train_size=0.7)\n",
        "\n",
        "# посмотрел все получившиеся выборки, они правильны, они зафиксированы\n"
      ],
      "execution_count": null,
      "outputs": []
    },
    {
      "cell_type": "markdown",
      "metadata": {
        "id": "oDWJ8lI_patF"
      },
      "source": [
        "**Задача 1.3 (1 балл)** На тренировочной выборке обучите шесть классификаторов kNN, отличающихся только числом соседей. Для первого классификатора число соседей поставьте равным 1, для второго - 3, для третьего – 5, для четвертого – 10, для пятого – 15 и для шестого – 25 (обратите внимание на параметр `n_neighbours` класса `KNeighborsClassifier`). Для обучения используйте только два признака: `alcohol` и `magnesium` – и евклидово расстояние. Не забудьте масштабировать признаки, например, при помощи модуля `StandardScaler`.\n",
        "\n",
        "Выведите долю правильных ответов на тренировочной и тестовой выборках для каждого классификатора."
      ]
    },
    {
      "cell_type": "code",
      "metadata": {
        "colab": {
          "base_uri": "https://localhost:8080/"
        },
        "id": "ziESai47patI",
        "outputId": "901d9b77-ca9f-4d6e-f931-3823266fcee7"
      },
      "source": [
        "# Так, чтобы все работало, нужно 1) запустить предыдущий кусок кода 2) запустить этот кусок кода, иначе X_train & X_test не будут определены\n",
        "# Чтобы было удобнее, при проверке скопируйте код предыдущей задачи и вставьте в начало этой\n",
        "\n",
        "from sklearn.preprocessing import StandardScaler\n",
        "\n",
        "# Теперь оставлю два признака, конечно, логичнее просто создать новый X, добавив 2 признака, но мне лень вспоминать, просто уберу 11 :)\n",
        "\n",
        "del X_train['ash']\n",
        "del X_train['malic_acid']\n",
        "del X_train['alcalinity_of_ash']\n",
        "del X_train['total_phenols']\n",
        "del X_train['flavanoids']\n",
        "del X_train['nonflavanoid_phenols']\n",
        "del X_train['proanthocyanins']\n",
        "del X_train['color_intensity']\n",
        "del X_train['hue']\n",
        "del X_train['od280/od315_of_diluted_wines']\n",
        "del X_train['proline']\n",
        "del X_test['ash']\n",
        "del X_test['malic_acid']\n",
        "del X_test['alcalinity_of_ash']\n",
        "del X_test['total_phenols']\n",
        "del X_test['flavanoids']\n",
        "del X_test['nonflavanoid_phenols']\n",
        "del X_test['proanthocyanins']\n",
        "del X_test['color_intensity']\n",
        "del X_test['hue']\n",
        "del X_test['od280/od315_of_diluted_wines']\n",
        "del X_test['proline']\n",
        "\n",
        "# Это была очень плохая идея, извините\n",
        "\n",
        "\n",
        "normalizer = StandardScaler()\n",
        "X_real_norm_np = normalizer.fit_transform(X_train)\n",
        "X_train_norm = pd.DataFrame(data=X_real_norm_np)\n",
        "X_real_norm_pn = normalizer.fit_transform(X_test)\n",
        "X_test_norm = pd.DataFrame(data=X_real_norm_pn)\n",
        "\n",
        "# Про перемешивание ничего не сказано, так что я его не делаю\n",
        "\n",
        "from sklearn.neighbors import KNeighborsClassifier\n",
        "from scipy.spatial import distance\n",
        "\n",
        "\n",
        "print(f\"NN    Train    Test\")\n",
        "y_predicted_tr = KNeighborsClassifier(n_neighbors=1, metric = \"euclidean\").fit(X_train_norm, y_train).predict(X_train_norm)\n",
        "y_predicted_tst = KNeighborsClassifier(n_neighbors=1, metric = \"euclidean\").fit(X_train_norm, y_train).predict(X_test_norm)\n",
        "print(f\"{1}     {np.mean(y_predicted_tr==y_train):.3f}    {np.mean(y_predicted_tst==y_test):.3f}\")\n",
        "y_predicted_tr = KNeighborsClassifier(n_neighbors=3, metric = \"euclidean\").fit(X_train_norm, y_train).predict(X_train_norm)\n",
        "y_predicted_tst = KNeighborsClassifier(n_neighbors=3, metric = \"euclidean\").fit(X_train_norm, y_train).predict(X_test_norm)\n",
        "print(f\"{3}     {np.mean(y_predicted_tr==y_train):.3f}    {np.mean(y_predicted_tst==y_test):.3f}\")\n",
        "y_predicted_tr = KNeighborsClassifier(n_neighbors=5, metric = \"euclidean\").fit(X_train_norm, y_train).predict(X_train_norm)\n",
        "y_predicted_tst = KNeighborsClassifier(n_neighbors=5, metric = \"euclidean\").fit(X_train_norm, y_train).predict(X_test_norm)\n",
        "print(f\"{5}     {np.mean(y_predicted_tr==y_train):.3f}    {np.mean(y_predicted_tst==y_test):.3f}\")\n",
        "y_predicted_tr = KNeighborsClassifier(n_neighbors=10, metric = \"euclidean\").fit(X_train_norm, y_train).predict(X_train_norm)\n",
        "y_predicted_tst = KNeighborsClassifier(n_neighbors=10, metric = \"euclidean\").fit(X_train_norm, y_train).predict(X_test_norm)\n",
        "print(f\"{10}    {np.mean(y_predicted_tr==y_train):.3f}    {np.mean(y_predicted_tst==y_test):.3f}\")\n",
        "y_predicted_tr = KNeighborsClassifier(n_neighbors=15, metric = \"euclidean\").fit(X_train_norm, y_train).predict(X_train_norm)\n",
        "y_predicted_tst = KNeighborsClassifier(n_neighbors=15, metric = \"euclidean\").fit(X_train_norm, y_train).predict(X_test_norm)\n",
        "print(f\"{15}    {np.mean(y_predicted_tr==y_train):.3f}    {np.mean(y_predicted_tst==y_test):.3f}\")\n",
        "y_predicted_tr = KNeighborsClassifier(n_neighbors=25, metric = \"euclidean\").fit(X_train_norm, y_train).predict(X_train_norm)\n",
        "y_predicted_tst = KNeighborsClassifier(n_neighbors=25, metric = \"euclidean\").fit(X_train_norm, y_train).predict(X_test_norm)\n",
        "print(f\"{25}    {np.mean(y_predicted_tr==y_train):.3f}    {np.mean(y_predicted_tst==y_test):.3f}\")\n",
        "\n",
        "\n",
        "\n",
        "\n",
        "\n"
      ],
      "execution_count": null,
      "outputs": [
        {
          "output_type": "stream",
          "text": [
            "NN    Train    Test\n",
            "1     1.000    0.667\n",
            "3     0.806    0.722\n",
            "5     0.750    0.685\n",
            "10    0.734    0.704\n",
            "15    0.734    0.815\n",
            "25    0.669    0.815\n"
          ],
          "name": "stdout"
        }
      ]
    },
    {
      "cell_type": "markdown",
      "metadata": {
        "id": "SlLK2IiapatL"
      },
      "source": [
        "**Задача 1.4 (0 баллов)** Установите библиотеку `mlxtend` командой ниже. Библиотеку также можно установить из терминала при помощи `pip` или `conda`, как указано [здесь](http://rasbt.github.io/mlxtend/installation/). "
      ]
    },
    {
      "cell_type": "code",
      "metadata": {
        "colab": {
          "base_uri": "https://localhost:8080/"
        },
        "id": "ZMJWkoKlpatO",
        "outputId": "598e4adb-04be-46c7-98a3-7eae8166ee1f"
      },
      "source": [
        "pip install mlxtend --no-deps"
      ],
      "execution_count": null,
      "outputs": [
        {
          "output_type": "stream",
          "text": [
            "Requirement already satisfied: mlxtend in /usr/local/lib/python3.7/dist-packages (0.14.0)\n"
          ],
          "name": "stdout"
        }
      ]
    },
    {
      "cell_type": "markdown",
      "metadata": {
        "id": "aWB2gvTzpatQ"
      },
      "source": [
        "Если всё прошло успешно, то в выводе команды выше вы увидите сообщение вроде \"successfully installed\", а следующая ячейка выполнится без ошибок."
      ]
    },
    {
      "cell_type": "code",
      "metadata": {
        "id": "xRWwf3O8vI0W"
      },
      "source": [
        ""
      ],
      "execution_count": null,
      "outputs": []
    },
    {
      "cell_type": "code",
      "metadata": {
        "id": "aDRfMqtkpatS"
      },
      "source": [
        "import mlxtend"
      ],
      "execution_count": null,
      "outputs": []
    },
    {
      "cell_type": "markdown",
      "metadata": {
        "id": "p99Iekf9patZ"
      },
      "source": [
        "**Задача 1.5 (1 балл)** Библиотека `mlxtend` позволяет достаточно просто визуализировать решающие поверхности обученных классификаторов. Изучите [документацию](http://rasbt.github.io/mlxtend/user_guide/plotting/plot_decision_regions/) библиотеки и найдите, как можно построить несколько графиков решающих поверхностей на сетке (decision regions grid). Постройте такую сетку графиков для обученных выше классификаторов.\n",
        "\n",
        "**Подсказки:**\n",
        "1. Вы можете использовать готовый код, приведённый в документации, и адаптировать его для нашего случая.\n",
        "2. Вам могут понадобиться дополнительные библиотеки, которые используются в примере из документации.\n",
        "3. Обратите внимание на то, как нужно изменить параметры `gridspec.GridSpec()` и `itertools.product()` для нашего числа классификаторов. \n",
        "4. В функции `plot_decision_region()` используйте `y_train` и нужные столбцы из `X_train`. Возможно, их придётся перевести в формат массива `numpy`.\n",
        "5. Если в задаче 1.3 вы сохраните обученные классификаторы в список, то не будет необходимости обучать их заново. \n",
        "6. Построение графика может занять некоторое время – придётся немного подождать!"
      ]
    },
    {
      "cell_type": "code",
      "metadata": {
        "colab": {
          "base_uri": "https://localhost:8080/",
          "height": 835
        },
        "id": "rvVX6b_Lpatc",
        "outputId": "c3e20a77-b723-4087-877f-c43e0c3d62e0"
      },
      "source": [
        "from mlxtend.plotting import plot_decision_regions\n",
        "import matplotlib.pyplot as plt\n",
        "from sklearn import datasets\n",
        "from sklearn.svm import SVC\n",
        "import matplotlib.gridspec as gridspec\n",
        "import itertools\n",
        "import numpy as np\n",
        "\n",
        "gs = gridspec.GridSpec(ncols=3, nrows=2)\n",
        "\n",
        "fig = plt.figure(figsize=(18,10))\n",
        "clf1 = KNeighborsClassifier(n_neighbors=1)\n",
        "clf3 = KNeighborsClassifier(n_neighbors=3)\n",
        "clf5 = KNeighborsClassifier(n_neighbors=5)\n",
        "clf10 = KNeighborsClassifier(n_neighbors=10)\n",
        "clf15 = KNeighborsClassifier(n_neighbors=15)\n",
        "clf25 = KNeighborsClassifier(n_neighbors=25)\n",
        "labels = ['n_neighbors=1', 'n_neighbors=3', 'n_neighbors=5', 'n_neighbors=10', 'n_neighbors=15', 'n_neighbors=25']\n",
        "for clf, lab, grd in zip([clf1, clf3, clf5, clf10, clf15, clf25],\n",
        "                         labels,\n",
        "                         itertools.product([0,1,2], repeat=2)):\n",
        "    ax = plt.subplot(gs[grd[0], grd[1]])\n",
        "    clf.fit(X_train_norm, y_train)\n",
        "    fig = plot_decision_regions(X_train_norm.to_numpy(), y_train, clf=clf, legend=2)\n",
        "    plt.title(lab)\n",
        "    \n",
        "plt.show()\n",
        "\n"
      ],
      "execution_count": null,
      "outputs": [
        {
          "output_type": "stream",
          "text": [
            "/usr/local/lib/python3.7/dist-packages/mlxtend/plotting/decision_regions.py:244: MatplotlibDeprecationWarning: Passing unsupported keyword arguments to axis() will raise a TypeError in 3.3.\n",
            "  ax.axis(xmin=xx.min(), xmax=xx.max(), y_min=yy.min(), y_max=yy.max())\n",
            "/usr/local/lib/python3.7/dist-packages/mlxtend/plotting/decision_regions.py:244: MatplotlibDeprecationWarning: Passing unsupported keyword arguments to axis() will raise a TypeError in 3.3.\n",
            "  ax.axis(xmin=xx.min(), xmax=xx.max(), y_min=yy.min(), y_max=yy.max())\n",
            "/usr/local/lib/python3.7/dist-packages/mlxtend/plotting/decision_regions.py:244: MatplotlibDeprecationWarning: Passing unsupported keyword arguments to axis() will raise a TypeError in 3.3.\n",
            "  ax.axis(xmin=xx.min(), xmax=xx.max(), y_min=yy.min(), y_max=yy.max())\n",
            "/usr/local/lib/python3.7/dist-packages/mlxtend/plotting/decision_regions.py:244: MatplotlibDeprecationWarning: Passing unsupported keyword arguments to axis() will raise a TypeError in 3.3.\n",
            "  ax.axis(xmin=xx.min(), xmax=xx.max(), y_min=yy.min(), y_max=yy.max())\n",
            "/usr/local/lib/python3.7/dist-packages/mlxtend/plotting/decision_regions.py:244: MatplotlibDeprecationWarning: Passing unsupported keyword arguments to axis() will raise a TypeError in 3.3.\n",
            "  ax.axis(xmin=xx.min(), xmax=xx.max(), y_min=yy.min(), y_max=yy.max())\n",
            "/usr/local/lib/python3.7/dist-packages/mlxtend/plotting/decision_regions.py:244: MatplotlibDeprecationWarning: Passing unsupported keyword arguments to axis() will raise a TypeError in 3.3.\n",
            "  ax.axis(xmin=xx.min(), xmax=xx.max(), y_min=yy.min(), y_max=yy.max())\n"
          ],
          "name": "stderr"
        },
        {
          "output_type": "display_data",
          "data": {
            "image/png": "[encoded data removed]",
            "text/plain": [
              "<Figure size 1296x720 with 6 Axes>"
            ]
          },
          "metadata": {
            "tags": [],
            "needs_background": "light"
          }
        }
      ]
    },
    {
      "cell_type": "markdown",
      "metadata": {
        "id": "tXPzDsT1patf"
      },
      "source": [
        "**Задача 1.6 (0.5 балла)** Прокомментируйте результаты, полученные в задачах 1.3 и 1.5. Какое число соседей оптимально использовать для обучения классификатора? Поясните ваш выбор при помощи описания геометрии данных и получаемой решающей поверхности."
      ]
    },
    {
      "cell_type": "code",
      "metadata": {
        "id": "-kHXMTDEpati"
      },
      "source": [
        "В целом я могу сказать, что получил не очень хороший результат на тренировочных данных, ожидал еще более низкого на тестовых, но, к моему удивлению, \n",
        "я получил как минимум сопоставимые цифры. Странно, что для трейна аккураси падает, а для теста растет вместе с ростом числа соседей. Вероятно это\n",
        "обусловлено небольшим количеством данных. Тем не менее, я в целом доволен точностью на тестовых данных. \n",
        "\n",
        "Очень сложно выбрать оптимальное число соседей, потому что результаты не трейне и тесте противоречивы, но я бы выбрал k=10, исходя из визуальной\n",
        "интерпретации, это самый логичный вариант. Плюс k=10 является неким компромиссом между тренировочными и тестировочными результатами.\n",
        "\n"
      ],
      "execution_count": null,
      "outputs": []
    },
    {
      "cell_type": "markdown",
      "metadata": {
        "id": "gFeEUZTkpatl"
      },
      "source": [
        "### Задание 2: Обученная машина."
      ]
    },
    {
      "cell_type": "markdown",
      "metadata": {
        "id": "YwJznEPWQ-4C"
      },
      "source": [
        ""
      ]
    },
    {
      "cell_type": "markdown",
      "metadata": {
        "id": "Misax_vlpato"
      },
      "source": [
        "В этом задании мы рассмотрим упрощённую идею того, как метод ближайших соседей можно применить при моделировании движения робота. \n",
        "\n",
        "Рассмотрим робота на дискретной двумерной плоскости, который за каждый момент дискретного времени может передвинуться на одну позицию вправо, влево, вверх или вниз. На плоскости разбросаны метки одного из четырёх классов, анализируя которые робот может (но не обязан) корректировать своё перемещение. Пусть метки класса 0 соответствуют сигналу переместиться вправо, метки класса 1 – влево, класса 2 – вверх, класса 3 – вниз. \n",
        "\n",
        "Передвижение робота осуществляется по следующему правилу: с вероятностью 0.2 робот передвинется вправо, и с вероятностью 0.8 – оценит, метки какого класса преобладают среди `k` его ближайших соседей, и передвинется в направлении этого доминирующего класса. \n",
        "\n",
        "Для лучшего понимания происходящего изобразим возможное положение робота и меток:"
      ]
    },
    {
      "cell_type": "code",
      "metadata": {
        "id": "4O8XiZX2patr",
        "colab": {
          "base_uri": "https://localhost:8080/",
          "height": 428
        },
        "outputId": "d26b752c-6e7b-4e4b-9ca3-a7b76230b61a"
      },
      "source": [
        "np.random.seed(12345)\n",
        "x = np.arange(20)\n",
        "landmarks = x + np.round(np.random.normal(2, 8, 20)) # сгенерируем случайные метки\n",
        "random_classes = np.random.randint(0, 4, 20)\n",
        "\n",
        "fig, ax = plt.subplots(figsize = (10, 7))\n",
        "scatter = ax.scatter(x, landmarks, c = random_classes)\n",
        "ax.scatter(4, 7, c = 'r', marker = 'o', label = 'robot position')\n",
        "legend1 = ax.legend(*scatter.legend_elements(),\n",
        "                    loc = \"lower left\", title = \"Classes\")\n",
        "ax.add_artist(legend1)\n",
        "\n",
        "plt.plot()\n",
        "_ = plt.legend()\n",
        "_ = plt.grid()"
      ],
      "execution_count": null,
      "outputs": [
        {
          "output_type": "display_data",
          "data": {
            "image/png": "[encoded data removed]",
            "text/plain": [
              "<Figure size 720x504 with 1 Axes>"
            ]
          },
          "metadata": {
            "tags": [],
            "needs_background": "light"
          }
        }
      ]
    },
    {
      "cell_type": "markdown",
      "metadata": {
        "id": "9sSMV8H0pat2"
      },
      "source": [
        "На следующем шаге робот передвинется на 1 либо вправо, либо в направлении, которое указывают ближайшие соседи."
      ]
    },
    {
      "cell_type": "markdown",
      "metadata": {
        "id": "T8OE3is1pat5"
      },
      "source": [
        "**Задача 2.1 (1.5 балла)** Реализуйте класс, который задаёт описанное поведение робота, используя шаблон ниже:\n",
        "1. Определите атрибуты `trajectory` (переменная для хранения истории перемещения робота в виде последовательности точек с двумя координатами) и `knn` (обученный kNN классификатор, который по позиции метки предсказывает её класс).\n",
        "2. Определите метод `move()`: рассчитайте новое положение робота по правилам выше и добавьте её в историю перемещений. Подсказка: исходы можно интерпретировать как результаты подбрасывания монетки с вероятностью орла, равной 0.2. Для моделирования такого подбрасывания можно использовать, например, `np.random.binomial()` с правильными параметрами. "
      ]
    },
    {
      "cell_type": "code",
      "metadata": {
        "id": "sdZ0WYTLpat8"
      },
      "source": [
        "from sklearn.neighbors import KNeighborsClassifier"
      ],
      "execution_count": null,
      "outputs": []
    },
    {
      "cell_type": "code",
      "metadata": {
        "id": "C9jf1NZEpat-"
      },
      "source": [
        "class MobileRobot():\n",
        "    \n",
        "    def __init__(self, k, initial_position, landmarks, classes):\n",
        "        '''\n",
        "        Attributes:\n",
        "        ------\n",
        "        k: int\n",
        "            Number of neighbours\n",
        "            \n",
        "        initial_position: ndarray\n",
        "            Initial position of the robot as a point, e.g. (-1, 1)\n",
        "            \n",
        "        landmarks: ndarray\n",
        "            numpy array of shape (n_landmarks, 2) with the euclidean positions of points\n",
        "        \n",
        "        classes: ndarray\n",
        "            numpy array of shape (n_landmarks, ) with class of landmark for each point in landmarks\n",
        "        \n",
        "        '''\n",
        "        # Store the history of movements\n",
        "        self.trajectory = [initial_position]\n",
        "\n",
        "        \n",
        "        # kNN Classifier for determining the classes of landmarks\n",
        "        self.knn = KNeighborsClassifier(n_neighbors=k)\n",
        "        self.knn.fit(landmarks, classes)\n",
        "        \n",
        "        # Mapping between classes of points and movements\n",
        "        self.mapping = {0: np.array([1, 0]), \n",
        "                        1: np.array([-1, 0]),\n",
        "                        2: np.array([0, 1]),\n",
        "                        3: np.array([0, -1])}\n",
        "        \n",
        "    def move(self):\n",
        "      choice = np.random.binomial(1, 0.2)\n",
        "      if choice == 1:\n",
        "        self.trajectory.append(self.mapping[0] + self.trajectory[-1])\n",
        "      else:\n",
        "        pred_class = self.knn.predict(self.trajectory[-1].reshape(1,2))\n",
        "        self.trajectory.append(self.mapping[pred_class[0]] + self.trajectory[-1])"
      ],
      "execution_count": null,
      "outputs": []
    },
    {
      "cell_type": "code",
      "metadata": {
        "colab": {
          "base_uri": "https://localhost:8080/"
        },
        "id": "iR5mBIsIlwBt",
        "outputId": "bb8444e2-34b4-43af-e54e-0f6da52c5854"
      },
      "source": [
        ""
      ],
      "execution_count": null,
      "outputs": [
        {
          "output_type": "stream",
          "text": [
            "9\n"
          ],
          "name": "stdout"
        }
      ]
    },
    {
      "cell_type": "markdown",
      "metadata": {
        "id": "irqAb0EhpauC"
      },
      "source": [
        "**Задача 2.2 (0.5 балла)** Дополните функцию `conduct_experiment`: определите переменную `traj` так, чтобы она содержала историю перемещения робота в виде двумерного массива numpy, в котором столбцы соответствуют координатам x и y соответствующей позиции."
      ]
    },
    {
      "cell_type": "code",
      "metadata": {
        "id": "1U-kaugzpauO"
      },
      "source": [
        "def conduct_experiment(x,\n",
        "                       mean = 0,\n",
        "                       std = 2, \n",
        "                       n_movements = 10, \n",
        "                       k = 3, \n",
        "                       initial_position = np.array([10, 20])):\n",
        "    \n",
        "    np.random.seed(12345)\n",
        "    # Generate random landmarks\n",
        "    landmarks = np.vstack((x, x + np.round(np.random.normal(mean, std, len(x))))).T\n",
        "    \n",
        "    # Generate random classes of landmarks\n",
        "    classes = np.random.randint(0, 4, size = len(x))\n",
        "    \n",
        "    # Conduct experiment\n",
        "    robot = MobileRobot(k, initial_position, landmarks, classes)\n",
        "    \n",
        "    for n in range(n_movements):\n",
        "        robot.move()\n",
        "    \n",
        "    fig, ax = plt.subplots(figsize = (10, 8))\n",
        "    scatter = ax.scatter(landmarks[:, 0], landmarks[:, 1], c = classes)\n",
        "    legend1 = ax.legend(*scatter.legend_elements(),\n",
        "                        loc=\"lower left\", title=\"classes\")\n",
        "    ax.add_artist(legend1)\n",
        "    \n",
        "    traj = np.array(robot.trajectory)\n",
        "    ax.plot(traj[:, 0], traj[:, 1], \n",
        "               c = 'r', marker = 'o', label = 'robot position')\n",
        "\n",
        "    plt.plot()\n",
        "    _ = plt.legend()\n",
        "    _ = plt.grid()"
      ],
      "execution_count": null,
      "outputs": []
    },
    {
      "cell_type": "code",
      "metadata": {
        "id": "rraC1AVepaud",
        "colab": {
          "base_uri": "https://localhost:8080/",
          "height": 483
        },
        "outputId": "0b2549d0-b52f-4d8a-ff5d-3b6e7e00285a"
      },
      "source": [
        "x = np.arange(30)\n",
        "conduct_experiment(x, mean = 3, std = 10, k = 5, n_movements = 50)"
      ],
      "execution_count": null,
      "outputs": [
        {
          "output_type": "display_data",
          "data": {
            "image/png": "[encoded data removed]",
            "text/plain": [
              "<Figure size 720x576 with 1 Axes>"
            ]
          },
          "metadata": {
            "tags": [],
            "needs_background": "light"
          }
        }
      ]
    },
    {
      "cell_type": "markdown",
      "metadata": {
        "id": "7_8kgBJKpaui"
      },
      "source": [
        "**Задача 2.3 (1 балл)** Как число соседей влияет на траекторию движения робота в нашем эксперименте? Постройте четыре графика с различным числом соседей на ваш выбор. А что было бы в случае, если классы назначаются меткам не случайно, а осмысленно? "
      ]
    },
    {
      "cell_type": "code",
      "metadata": {
        "id": "iC4UBFIepauk",
        "colab": {
          "base_uri": "https://localhost:8080/",
          "height": 483
        },
        "outputId": "b57c2c24-f3e5-4220-d7a3-b41494e32ab5"
      },
      "source": [
        "x = np.arange(30)\n",
        "conduct_experiment(x, mean = 3, std = 10, k = 1, n_movements = 50)"
      ],
      "execution_count": null,
      "outputs": [
        {
          "output_type": "display_data",
          "data": {
            "image/png": "[encoded data removed]",
            "text/plain": [
              "<Figure size 720x576 with 1 Axes>"
            ]
          },
          "metadata": {
            "tags": [],
            "needs_background": "light"
          }
        }
      ]
    },
    {
      "cell_type": "code",
      "metadata": {
        "colab": {
          "base_uri": "https://localhost:8080/",
          "height": 483
        },
        "id": "OPYAtNR_V1_F",
        "outputId": "028fa06c-aedc-478b-ac3f-8ab672c8953c"
      },
      "source": [
        "x = np.arange(30)\n",
        "conduct_experiment(x, mean = 3, std = 10, k = 3, n_movements = 50)"
      ],
      "execution_count": null,
      "outputs": [
        {
          "output_type": "display_data",
          "data": {
            "image/png": "[encoded data removed]",
            "text/plain": [
              "<Figure size 720x576 with 1 Axes>"
            ]
          },
          "metadata": {
            "tags": [],
            "needs_background": "light"
          }
        }
      ]
    },
    {
      "cell_type": "code",
      "metadata": {
        "colab": {
          "base_uri": "https://localhost:8080/",
          "height": 483
        },
        "id": "HKl9wSajV5bJ",
        "outputId": "2e095da2-926c-4701-d75c-9544c5080312"
      },
      "source": [
        "x = np.arange(30)\n",
        "conduct_experiment(x, mean = 3, std = 10, k = 7, n_movements = 50)"
      ],
      "execution_count": null,
      "outputs": [
        {
          "output_type": "display_data",
          "data": {
            "image/png": "[encoded data removed]",
            "text/plain": [
              "<Figure size 720x576 with 1 Axes>"
            ]
          },
          "metadata": {
            "tags": [],
            "needs_background": "light"
          }
        }
      ]
    },
    {
      "cell_type": "code",
      "metadata": {
        "colab": {
          "base_uri": "https://localhost:8080/",
          "height": 483
        },
        "id": "EhnczsSaV9pU",
        "outputId": "ce1d41bf-3788-4b7a-d384-5b70abd7a922"
      },
      "source": [
        "x = np.arange(30)\n",
        "conduct_experiment(x, mean = 3, std = 10, k = 10, n_movements = 50)"
      ],
      "execution_count": null,
      "outputs": [
        {
          "output_type": "display_data",
          "data": {
            "image/png": "[encoded data removed]",
            "text/plain": [
              "<Figure size 720x576 with 1 Axes>"
            ]
          },
          "metadata": {
            "tags": [],
            "needs_background": "light"
          }
        }
      ]
    },
    {
      "cell_type": "code",
      "metadata": {
        "colab": {
          "base_uri": "https://localhost:8080/",
          "height": 483
        },
        "id": "5ry_U0hGWIxT",
        "outputId": "71b6dd5d-5398-41b6-ff31-dc9a0bef39a8"
      },
      "source": [
        "x = np.arange(30)\n",
        "conduct_experiment(x, mean = 3, std = 10, k = 28, n_movements = 50)"
      ],
      "execution_count": null,
      "outputs": [
        {
          "output_type": "display_data",
          "data": {
            "image/png": "[encoded data removed]",
            "text/plain": [
              "<Figure size 720x576 with 1 Axes>"
            ]
          },
          "metadata": {
            "tags": [],
            "needs_background": "light"
          }
        }
      ]
    },
    {
      "cell_type": "markdown",
      "metadata": {
        "id": "iHyagHaRWsk3"
      },
      "source": [
        "Так, ну могу сказать, что точки неравномерно распределены плюс самое число точек не то чтобы большое. Поэтому чем больше число соседей - тем ближе поведение робота к \"посчитать все точки на графике и сделать вывод\", что проявлено в крайней форме на пятом графике (если я правильно посчитал - всего точек 28), соответственно движение приняло форму \"либо 0,2 вправо либо вверх\". Говоря в целом, чем меньше число соседей, тем более чувствителен робот к ситуации в том месте, где он находится, и на первом графике (за исключением вероятности пойти вправо) он наиболее явно отображает ситуацию на поле.\n",
        "\n",
        "Если бы меткам присваивались классы осмысленно - (извините, тире нет под рукой, это ко всем дефисам относится), очевидно, что движение робота было бы обусловлено количеством точек, распределением классов и количеством ближайших соседей, но как-то определенно это сформулировать сложно, ведь назначить классы и количество точек можно на любой вкус!  "
      ]
    },
    {
      "cell_type": "markdown",
      "metadata": {
        "id": "GZzNcNkCpaum"
      },
      "source": [
        "### Задание 3: Линейная регрессия."
      ]
    },
    {
      "cell_type": "markdown",
      "metadata": {
        "id": "WnjVR6jWpauq"
      },
      "source": [
        "В этом задании мы рассмотрим различные аспекты построения линейной модели. Мы будем работать с одним из классических наборов данных в статистике, содержащим информацию о бриллиантах. Описание можно посмотреть [здесь](https://www.kaggle.com/shivam2503/diamonds)."
      ]
    },
    {
      "cell_type": "code",
      "metadata": {
        "colab": {
          "base_uri": "https://localhost:8080/",
          "height": 202
        },
        "id": "s4C4leBUpaus",
        "outputId": "de626d33-0093-4d20-ac0d-1e51350ee7ae"
      },
      "source": [
        "data = pd.read_csv('https://raw.githubusercontent.com/PersDep/data-mining-intro-2021/main/hw04-knn-linreg-data/diamonds.csv')\n",
        "data.head(5)"
      ],
      "execution_count": null,
      "outputs": [
        {
          "output_type": "execute_result",
          "data": {
            "text/html": [
              "<div>\n",
              "<style scoped>\n",
              "    .dataframe tbody tr th:only-of-type {\n",
              "        vertical-align: middle;\n",
              "    }\n",
              "\n",
              "    .dataframe tbody tr th {\n",
              "        vertical-align: top;\n",
              "    }\n",
              "\n",
              "    .dataframe thead th {\n",
              "        text-align: right;\n",
              "    }\n",
              "</style>\n",
              "<table border=\"1\" class=\"dataframe\">\n",
              "  <thead>\n",
              "    <tr style=\"text-align: right;\">\n",
              "      <th></th>\n",
              "      <th>Unnamed: 0</th>\n",
              "      <th>carat</th>\n",
              "      <th>cut</th>\n",
              "      <th>color</th>\n",
              "      <th>clarity</th>\n",
              "      <th>depth</th>\n",
              "      <th>table</th>\n",
              "      <th>price</th>\n",
              "      <th>x</th>\n",
              "      <th>y</th>\n",
              "      <th>z</th>\n",
              "    </tr>\n",
              "  </thead>\n",
              "  <tbody>\n",
              "    <tr>\n",
              "      <th>0</th>\n",
              "      <td>1</td>\n",
              "      <td>0.23</td>\n",
              "      <td>Ideal</td>\n",
              "      <td>E</td>\n",
              "      <td>SI2</td>\n",
              "      <td>61.5</td>\n",
              "      <td>55.0</td>\n",
              "      <td>326</td>\n",
              "      <td>3.95</td>\n",
              "      <td>3.98</td>\n",
              "      <td>2.43</td>\n",
              "    </tr>\n",
              "    <tr>\n",
              "      <th>1</th>\n",
              "      <td>2</td>\n",
              "      <td>0.21</td>\n",
              "      <td>Premium</td>\n",
              "      <td>E</td>\n",
              "      <td>SI1</td>\n",
              "      <td>59.8</td>\n",
              "      <td>61.0</td>\n",
              "      <td>326</td>\n",
              "      <td>3.89</td>\n",
              "      <td>3.84</td>\n",
              "      <td>2.31</td>\n",
              "    </tr>\n",
              "    <tr>\n",
              "      <th>2</th>\n",
              "      <td>3</td>\n",
              "      <td>0.23</td>\n",
              "      <td>Good</td>\n",
              "      <td>E</td>\n",
              "      <td>VS1</td>\n",
              "      <td>56.9</td>\n",
              "      <td>65.0</td>\n",
              "      <td>327</td>\n",
              "      <td>4.05</td>\n",
              "      <td>4.07</td>\n",
              "      <td>2.31</td>\n",
              "    </tr>\n",
              "    <tr>\n",
              "      <th>3</th>\n",
              "      <td>4</td>\n",
              "      <td>0.29</td>\n",
              "      <td>Premium</td>\n",
              "      <td>I</td>\n",
              "      <td>VS2</td>\n",
              "      <td>62.4</td>\n",
              "      <td>58.0</td>\n",
              "      <td>334</td>\n",
              "      <td>4.20</td>\n",
              "      <td>4.23</td>\n",
              "      <td>2.63</td>\n",
              "    </tr>\n",
              "    <tr>\n",
              "      <th>4</th>\n",
              "      <td>5</td>\n",
              "      <td>0.31</td>\n",
              "      <td>Good</td>\n",
              "      <td>J</td>\n",
              "      <td>SI2</td>\n",
              "      <td>63.3</td>\n",
              "      <td>58.0</td>\n",
              "      <td>335</td>\n",
              "      <td>4.34</td>\n",
              "      <td>4.35</td>\n",
              "      <td>2.75</td>\n",
              "    </tr>\n",
              "  </tbody>\n",
              "</table>\n",
              "</div>"
            ],
            "text/plain": [
              "   Unnamed: 0  carat      cut color clarity  ...  table  price     x     y     z\n",
              "0           1   0.23    Ideal     E     SI2  ...   55.0    326  3.95  3.98  2.43\n",
              "1           2   0.21  Premium     E     SI1  ...   61.0    326  3.89  3.84  2.31\n",
              "2           3   0.23     Good     E     VS1  ...   65.0    327  4.05  4.07  2.31\n",
              "3           4   0.29  Premium     I     VS2  ...   58.0    334  4.20  4.23  2.63\n",
              "4           5   0.31     Good     J     SI2  ...   58.0    335  4.34  4.35  2.75\n",
              "\n",
              "[5 rows x 11 columns]"
            ]
          },
          "metadata": {
            "tags": []
          },
          "execution_count": 9
        }
      ]
    },
    {
      "cell_type": "markdown",
      "metadata": {
        "id": "RzV68QlHpauv"
      },
      "source": [
        "Мы будем решать задачу предсказания цены бриллианта `price` в зависимости от его характеристик."
      ]
    },
    {
      "cell_type": "markdown",
      "metadata": {
        "id": "W6Yj1M2dpauw"
      },
      "source": [
        "**Задача 3.1 (0.1 балла)** Есть ли в наборе данных пропущенные значения? Если да, удалите их. "
      ]
    },
    {
      "cell_type": "code",
      "metadata": {
        "id": "9flJ3yZKpaux",
        "colab": {
          "base_uri": "https://localhost:8080/"
        },
        "outputId": "55ef0cf9-ac0d-4687-8baa-db49b3b63388"
      },
      "source": [
        "data.isnull().sum()\n",
        "\n",
        "# данные полны, удалять ничего не надо"
      ],
      "execution_count": null,
      "outputs": [
        {
          "output_type": "execute_result",
          "data": {
            "text/plain": [
              "Unnamed: 0    0\n",
              "carat         0\n",
              "cut           0\n",
              "color         0\n",
              "clarity       0\n",
              "depth         0\n",
              "table         0\n",
              "price         0\n",
              "x             0\n",
              "y             0\n",
              "z             0\n",
              "dtype: int64"
            ]
          },
          "metadata": {
            "tags": []
          },
          "execution_count": 10
        }
      ]
    },
    {
      "cell_type": "markdown",
      "metadata": {
        "id": "AVLV41kepauy"
      },
      "source": [
        "**Задача 3.2 (0.1 балла)** Есть ли в наборе данных бессмысленные столбцы (признаки, не несущие дополнительной информации)? Если да, то удалите их."
      ]
    },
    {
      "cell_type": "code",
      "metadata": {
        "id": "bwO4Bnqkpauz",
        "colab": {
          "base_uri": "https://localhost:8080/",
          "height": 415
        },
        "outputId": "31a07480-4edc-4a8d-c3d1-e6f6c7b86633"
      },
      "source": [
        "# Есть \"Unnamed: 0\", уберем\n",
        "del data['Unnamed: 0']\n",
        "data\n",
        "\n"
      ],
      "execution_count": null,
      "outputs": [
        {
          "output_type": "execute_result",
          "data": {
            "text/html": [
              "<div>\n",
              "<style scoped>\n",
              "    .dataframe tbody tr th:only-of-type {\n",
              "        vertical-align: middle;\n",
              "    }\n",
              "\n",
              "    .dataframe tbody tr th {\n",
              "        vertical-align: top;\n",
              "    }\n",
              "\n",
              "    .dataframe thead th {\n",
              "        text-align: right;\n",
              "    }\n",
              "</style>\n",
              "<table border=\"1\" class=\"dataframe\">\n",
              "  <thead>\n",
              "    <tr style=\"text-align: right;\">\n",
              "      <th></th>\n",
              "      <th>carat</th>\n",
              "      <th>cut</th>\n",
              "      <th>color</th>\n",
              "      <th>clarity</th>\n",
              "      <th>depth</th>\n",
              "      <th>table</th>\n",
              "      <th>price</th>\n",
              "      <th>x</th>\n",
              "      <th>y</th>\n",
              "      <th>z</th>\n",
              "    </tr>\n",
              "  </thead>\n",
              "  <tbody>\n",
              "    <tr>\n",
              "      <th>0</th>\n",
              "      <td>0.23</td>\n",
              "      <td>Ideal</td>\n",
              "      <td>E</td>\n",
              "      <td>SI2</td>\n",
              "      <td>61.5</td>\n",
              "      <td>55.0</td>\n",
              "      <td>326</td>\n",
              "      <td>3.95</td>\n",
              "      <td>3.98</td>\n",
              "      <td>2.43</td>\n",
              "    </tr>\n",
              "    <tr>\n",
              "      <th>1</th>\n",
              "      <td>0.21</td>\n",
              "      <td>Premium</td>\n",
              "      <td>E</td>\n",
              "      <td>SI1</td>\n",
              "      <td>59.8</td>\n",
              "      <td>61.0</td>\n",
              "      <td>326</td>\n",
              "      <td>3.89</td>\n",
              "      <td>3.84</td>\n",
              "      <td>2.31</td>\n",
              "    </tr>\n",
              "    <tr>\n",
              "      <th>2</th>\n",
              "      <td>0.23</td>\n",
              "      <td>Good</td>\n",
              "      <td>E</td>\n",
              "      <td>VS1</td>\n",
              "      <td>56.9</td>\n",
              "      <td>65.0</td>\n",
              "      <td>327</td>\n",
              "      <td>4.05</td>\n",
              "      <td>4.07</td>\n",
              "      <td>2.31</td>\n",
              "    </tr>\n",
              "    <tr>\n",
              "      <th>3</th>\n",
              "      <td>0.29</td>\n",
              "      <td>Premium</td>\n",
              "      <td>I</td>\n",
              "      <td>VS2</td>\n",
              "      <td>62.4</td>\n",
              "      <td>58.0</td>\n",
              "      <td>334</td>\n",
              "      <td>4.20</td>\n",
              "      <td>4.23</td>\n",
              "      <td>2.63</td>\n",
              "    </tr>\n",
              "    <tr>\n",
              "      <th>4</th>\n",
              "      <td>0.31</td>\n",
              "      <td>Good</td>\n",
              "      <td>J</td>\n",
              "      <td>SI2</td>\n",
              "      <td>63.3</td>\n",
              "      <td>58.0</td>\n",
              "      <td>335</td>\n",
              "      <td>4.34</td>\n",
              "      <td>4.35</td>\n",
              "      <td>2.75</td>\n",
              "    </tr>\n",
              "    <tr>\n",
              "      <th>...</th>\n",
              "      <td>...</td>\n",
              "      <td>...</td>\n",
              "      <td>...</td>\n",
              "      <td>...</td>\n",
              "      <td>...</td>\n",
              "      <td>...</td>\n",
              "      <td>...</td>\n",
              "      <td>...</td>\n",
              "      <td>...</td>\n",
              "      <td>...</td>\n",
              "    </tr>\n",
              "    <tr>\n",
              "      <th>53935</th>\n",
              "      <td>0.72</td>\n",
              "      <td>Ideal</td>\n",
              "      <td>D</td>\n",
              "      <td>SI1</td>\n",
              "      <td>60.8</td>\n",
              "      <td>57.0</td>\n",
              "      <td>2757</td>\n",
              "      <td>5.75</td>\n",
              "      <td>5.76</td>\n",
              "      <td>3.50</td>\n",
              "    </tr>\n",
              "    <tr>\n",
              "      <th>53936</th>\n",
              "      <td>0.72</td>\n",
              "      <td>Good</td>\n",
              "      <td>D</td>\n",
              "      <td>SI1</td>\n",
              "      <td>63.1</td>\n",
              "      <td>55.0</td>\n",
              "      <td>2757</td>\n",
              "      <td>5.69</td>\n",
              "      <td>5.75</td>\n",
              "      <td>3.61</td>\n",
              "    </tr>\n",
              "    <tr>\n",
              "      <th>53937</th>\n",
              "      <td>0.70</td>\n",
              "      <td>Very Good</td>\n",
              "      <td>D</td>\n",
              "      <td>SI1</td>\n",
              "      <td>62.8</td>\n",
              "      <td>60.0</td>\n",
              "      <td>2757</td>\n",
              "      <td>5.66</td>\n",
              "      <td>5.68</td>\n",
              "      <td>3.56</td>\n",
              "    </tr>\n",
              "    <tr>\n",
              "      <th>53938</th>\n",
              "      <td>0.86</td>\n",
              "      <td>Premium</td>\n",
              "      <td>H</td>\n",
              "      <td>SI2</td>\n",
              "      <td>61.0</td>\n",
              "      <td>58.0</td>\n",
              "      <td>2757</td>\n",
              "      <td>6.15</td>\n",
              "      <td>6.12</td>\n",
              "      <td>3.74</td>\n",
              "    </tr>\n",
              "    <tr>\n",
              "      <th>53939</th>\n",
              "      <td>0.75</td>\n",
              "      <td>Ideal</td>\n",
              "      <td>D</td>\n",
              "      <td>SI2</td>\n",
              "      <td>62.2</td>\n",
              "      <td>55.0</td>\n",
              "      <td>2757</td>\n",
              "      <td>5.83</td>\n",
              "      <td>5.87</td>\n",
              "      <td>3.64</td>\n",
              "    </tr>\n",
              "  </tbody>\n",
              "</table>\n",
              "<p>53940 rows × 10 columns</p>\n",
              "</div>"
            ],
            "text/plain": [
              "       carat        cut color clarity  depth  table  price     x     y     z\n",
              "0       0.23      Ideal     E     SI2   61.5   55.0    326  3.95  3.98  2.43\n",
              "1       0.21    Premium     E     SI1   59.8   61.0    326  3.89  3.84  2.31\n",
              "2       0.23       Good     E     VS1   56.9   65.0    327  4.05  4.07  2.31\n",
              "3       0.29    Premium     I     VS2   62.4   58.0    334  4.20  4.23  2.63\n",
              "4       0.31       Good     J     SI2   63.3   58.0    335  4.34  4.35  2.75\n",
              "...      ...        ...   ...     ...    ...    ...    ...   ...   ...   ...\n",
              "53935   0.72      Ideal     D     SI1   60.8   57.0   2757  5.75  5.76  3.50\n",
              "53936   0.72       Good     D     SI1   63.1   55.0   2757  5.69  5.75  3.61\n",
              "53937   0.70  Very Good     D     SI1   62.8   60.0   2757  5.66  5.68  3.56\n",
              "53938   0.86    Premium     H     SI2   61.0   58.0   2757  6.15  6.12  3.74\n",
              "53939   0.75      Ideal     D     SI2   62.2   55.0   2757  5.83  5.87  3.64\n",
              "\n",
              "[53940 rows x 10 columns]"
            ]
          },
          "metadata": {
            "tags": []
          },
          "execution_count": 11
        }
      ]
    },
    {
      "cell_type": "markdown",
      "metadata": {
        "id": "E0EzpnGmpauz"
      },
      "source": [
        "**Задача 3.3 (0.1 балла)** Линейная регрессия основана на предположении о линейной связи между признаками и целевой переменной, а потому перед выбором переменных для включения в модель имеет смысл проверить, насколько эта связь выполняется. Для следующих пунктов нам также потребуются выборочные корреляции между признаками. Выведите матрицу выборочных корреляций между всеми вещественными признаками и целевой переменной (то есть в этой матрице будет $k+1$ строка, где $k$ – количество вещественных признаков).\n",
        "\n",
        "Какие вещественные признаки коррелируют с целевой переменной больше всего?"
      ]
    },
    {
      "cell_type": "code",
      "metadata": {
        "id": "LfesJaxupau0",
        "colab": {
          "base_uri": "https://localhost:8080/",
          "height": 263
        },
        "outputId": "3a1e6475-0dbd-4272-f1b9-bf5fd1a97e75"
      },
      "source": [
        "data.corr()\n",
        "\n",
        "# Насколько я понимаю, целевая - price, тогда carat, x, y, z коррелируют больше всего"
      ],
      "execution_count": null,
      "outputs": [
        {
          "output_type": "execute_result",
          "data": {
            "text/html": [
              "<div>\n",
              "<style scoped>\n",
              "    .dataframe tbody tr th:only-of-type {\n",
              "        vertical-align: middle;\n",
              "    }\n",
              "\n",
              "    .dataframe tbody tr th {\n",
              "        vertical-align: top;\n",
              "    }\n",
              "\n",
              "    .dataframe thead th {\n",
              "        text-align: right;\n",
              "    }\n",
              "</style>\n",
              "<table border=\"1\" class=\"dataframe\">\n",
              "  <thead>\n",
              "    <tr style=\"text-align: right;\">\n",
              "      <th></th>\n",
              "      <th>carat</th>\n",
              "      <th>depth</th>\n",
              "      <th>table</th>\n",
              "      <th>price</th>\n",
              "      <th>x</th>\n",
              "      <th>y</th>\n",
              "      <th>z</th>\n",
              "    </tr>\n",
              "  </thead>\n",
              "  <tbody>\n",
              "    <tr>\n",
              "      <th>carat</th>\n",
              "      <td>1.000000</td>\n",
              "      <td>0.028224</td>\n",
              "      <td>0.181618</td>\n",
              "      <td>0.921591</td>\n",
              "      <td>0.975094</td>\n",
              "      <td>0.951722</td>\n",
              "      <td>0.953387</td>\n",
              "    </tr>\n",
              "    <tr>\n",
              "      <th>depth</th>\n",
              "      <td>0.028224</td>\n",
              "      <td>1.000000</td>\n",
              "      <td>-0.295779</td>\n",
              "      <td>-0.010647</td>\n",
              "      <td>-0.025289</td>\n",
              "      <td>-0.029341</td>\n",
              "      <td>0.094924</td>\n",
              "    </tr>\n",
              "    <tr>\n",
              "      <th>table</th>\n",
              "      <td>0.181618</td>\n",
              "      <td>-0.295779</td>\n",
              "      <td>1.000000</td>\n",
              "      <td>0.127134</td>\n",
              "      <td>0.195344</td>\n",
              "      <td>0.183760</td>\n",
              "      <td>0.150929</td>\n",
              "    </tr>\n",
              "    <tr>\n",
              "      <th>price</th>\n",
              "      <td>0.921591</td>\n",
              "      <td>-0.010647</td>\n",
              "      <td>0.127134</td>\n",
              "      <td>1.000000</td>\n",
              "      <td>0.884435</td>\n",
              "      <td>0.865421</td>\n",
              "      <td>0.861249</td>\n",
              "    </tr>\n",
              "    <tr>\n",
              "      <th>x</th>\n",
              "      <td>0.975094</td>\n",
              "      <td>-0.025289</td>\n",
              "      <td>0.195344</td>\n",
              "      <td>0.884435</td>\n",
              "      <td>1.000000</td>\n",
              "      <td>0.974701</td>\n",
              "      <td>0.970772</td>\n",
              "    </tr>\n",
              "    <tr>\n",
              "      <th>y</th>\n",
              "      <td>0.951722</td>\n",
              "      <td>-0.029341</td>\n",
              "      <td>0.183760</td>\n",
              "      <td>0.865421</td>\n",
              "      <td>0.974701</td>\n",
              "      <td>1.000000</td>\n",
              "      <td>0.952006</td>\n",
              "    </tr>\n",
              "    <tr>\n",
              "      <th>z</th>\n",
              "      <td>0.953387</td>\n",
              "      <td>0.094924</td>\n",
              "      <td>0.150929</td>\n",
              "      <td>0.861249</td>\n",
              "      <td>0.970772</td>\n",
              "      <td>0.952006</td>\n",
              "      <td>1.000000</td>\n",
              "    </tr>\n",
              "  </tbody>\n",
              "</table>\n",
              "</div>"
            ],
            "text/plain": [
              "          carat     depth     table     price         x         y         z\n",
              "carat  1.000000  0.028224  0.181618  0.921591  0.975094  0.951722  0.953387\n",
              "depth  0.028224  1.000000 -0.295779 -0.010647 -0.025289 -0.029341  0.094924\n",
              "table  0.181618 -0.295779  1.000000  0.127134  0.195344  0.183760  0.150929\n",
              "price  0.921591 -0.010647  0.127134  1.000000  0.884435  0.865421  0.861249\n",
              "x      0.975094 -0.025289  0.195344  0.884435  1.000000  0.974701  0.970772\n",
              "y      0.951722 -0.029341  0.183760  0.865421  0.974701  1.000000  0.952006\n",
              "z      0.953387  0.094924  0.150929  0.861249  0.970772  0.952006  1.000000"
            ]
          },
          "metadata": {
            "tags": []
          },
          "execution_count": 12
        }
      ]
    },
    {
      "cell_type": "markdown",
      "metadata": {
        "id": "mo5BxIWrpau1"
      },
      "source": [
        "**Задача 3.4 (0.1 балла)** Так как линейная модель складывает значения признаков с некоторыми весами, нам нужно аккуратно обработать категориальные признаки. Закодируйте категориальные переменные при помощи OneHot-кодирования."
      ]
    },
    {
      "cell_type": "code",
      "metadata": {
        "id": "mffKuDnMpau1",
        "colab": {
          "base_uri": "https://localhost:8080/",
          "height": 239
        },
        "outputId": "4cc29250-82a6-47b9-8485-87da2390cc43"
      },
      "source": [
        "data_dum = pd.get_dummies(data)\n",
        "data_dum.head()"
      ],
      "execution_count": null,
      "outputs": [
        {
          "output_type": "execute_result",
          "data": {
            "text/html": [
              "<div>\n",
              "<style scoped>\n",
              "    .dataframe tbody tr th:only-of-type {\n",
              "        vertical-align: middle;\n",
              "    }\n",
              "\n",
              "    .dataframe tbody tr th {\n",
              "        vertical-align: top;\n",
              "    }\n",
              "\n",
              "    .dataframe thead th {\n",
              "        text-align: right;\n",
              "    }\n",
              "</style>\n",
              "<table border=\"1\" class=\"dataframe\">\n",
              "  <thead>\n",
              "    <tr style=\"text-align: right;\">\n",
              "      <th></th>\n",
              "      <th>carat</th>\n",
              "      <th>depth</th>\n",
              "      <th>table</th>\n",
              "      <th>price</th>\n",
              "      <th>x</th>\n",
              "      <th>y</th>\n",
              "      <th>z</th>\n",
              "      <th>cut_Fair</th>\n",
              "      <th>cut_Good</th>\n",
              "      <th>cut_Ideal</th>\n",
              "      <th>cut_Premium</th>\n",
              "      <th>cut_Very Good</th>\n",
              "      <th>color_D</th>\n",
              "      <th>color_E</th>\n",
              "      <th>color_F</th>\n",
              "      <th>color_G</th>\n",
              "      <th>color_H</th>\n",
              "      <th>color_I</th>\n",
              "      <th>color_J</th>\n",
              "      <th>clarity_I1</th>\n",
              "      <th>clarity_IF</th>\n",
              "      <th>clarity_SI1</th>\n",
              "      <th>clarity_SI2</th>\n",
              "      <th>clarity_VS1</th>\n",
              "      <th>clarity_VS2</th>\n",
              "      <th>clarity_VVS1</th>\n",
              "      <th>clarity_VVS2</th>\n",
              "    </tr>\n",
              "  </thead>\n",
              "  <tbody>\n",
              "    <tr>\n",
              "      <th>0</th>\n",
              "      <td>0.23</td>\n",
              "      <td>61.5</td>\n",
              "      <td>55.0</td>\n",
              "      <td>326</td>\n",
              "      <td>3.95</td>\n",
              "      <td>3.98</td>\n",
              "      <td>2.43</td>\n",
              "      <td>0</td>\n",
              "      <td>0</td>\n",
              "      <td>1</td>\n",
              "      <td>0</td>\n",
              "      <td>0</td>\n",
              "      <td>0</td>\n",
              "      <td>1</td>\n",
              "      <td>0</td>\n",
              "      <td>0</td>\n",
              "      <td>0</td>\n",
              "      <td>0</td>\n",
              "      <td>0</td>\n",
              "      <td>0</td>\n",
              "      <td>0</td>\n",
              "      <td>0</td>\n",
              "      <td>1</td>\n",
              "      <td>0</td>\n",
              "      <td>0</td>\n",
              "      <td>0</td>\n",
              "      <td>0</td>\n",
              "    </tr>\n",
              "    <tr>\n",
              "      <th>1</th>\n",
              "      <td>0.21</td>\n",
              "      <td>59.8</td>\n",
              "      <td>61.0</td>\n",
              "      <td>326</td>\n",
              "      <td>3.89</td>\n",
              "      <td>3.84</td>\n",
              "      <td>2.31</td>\n",
              "      <td>0</td>\n",
              "      <td>0</td>\n",
              "      <td>0</td>\n",
              "      <td>1</td>\n",
              "      <td>0</td>\n",
              "      <td>0</td>\n",
              "      <td>1</td>\n",
              "      <td>0</td>\n",
              "      <td>0</td>\n",
              "      <td>0</td>\n",
              "      <td>0</td>\n",
              "      <td>0</td>\n",
              "      <td>0</td>\n",
              "      <td>0</td>\n",
              "      <td>1</td>\n",
              "      <td>0</td>\n",
              "      <td>0</td>\n",
              "      <td>0</td>\n",
              "      <td>0</td>\n",
              "      <td>0</td>\n",
              "    </tr>\n",
              "    <tr>\n",
              "      <th>2</th>\n",
              "      <td>0.23</td>\n",
              "      <td>56.9</td>\n",
              "      <td>65.0</td>\n",
              "      <td>327</td>\n",
              "      <td>4.05</td>\n",
              "      <td>4.07</td>\n",
              "      <td>2.31</td>\n",
              "      <td>0</td>\n",
              "      <td>1</td>\n",
              "      <td>0</td>\n",
              "      <td>0</td>\n",
              "      <td>0</td>\n",
              "      <td>0</td>\n",
              "      <td>1</td>\n",
              "      <td>0</td>\n",
              "      <td>0</td>\n",
              "      <td>0</td>\n",
              "      <td>0</td>\n",
              "      <td>0</td>\n",
              "      <td>0</td>\n",
              "      <td>0</td>\n",
              "      <td>0</td>\n",
              "      <td>0</td>\n",
              "      <td>1</td>\n",
              "      <td>0</td>\n",
              "      <td>0</td>\n",
              "      <td>0</td>\n",
              "    </tr>\n",
              "    <tr>\n",
              "      <th>3</th>\n",
              "      <td>0.29</td>\n",
              "      <td>62.4</td>\n",
              "      <td>58.0</td>\n",
              "      <td>334</td>\n",
              "      <td>4.20</td>\n",
              "      <td>4.23</td>\n",
              "      <td>2.63</td>\n",
              "      <td>0</td>\n",
              "      <td>0</td>\n",
              "      <td>0</td>\n",
              "      <td>1</td>\n",
              "      <td>0</td>\n",
              "      <td>0</td>\n",
              "      <td>0</td>\n",
              "      <td>0</td>\n",
              "      <td>0</td>\n",
              "      <td>0</td>\n",
              "      <td>1</td>\n",
              "      <td>0</td>\n",
              "      <td>0</td>\n",
              "      <td>0</td>\n",
              "      <td>0</td>\n",
              "      <td>0</td>\n",
              "      <td>0</td>\n",
              "      <td>1</td>\n",
              "      <td>0</td>\n",
              "      <td>0</td>\n",
              "    </tr>\n",
              "    <tr>\n",
              "      <th>4</th>\n",
              "      <td>0.31</td>\n",
              "      <td>63.3</td>\n",
              "      <td>58.0</td>\n",
              "      <td>335</td>\n",
              "      <td>4.34</td>\n",
              "      <td>4.35</td>\n",
              "      <td>2.75</td>\n",
              "      <td>0</td>\n",
              "      <td>1</td>\n",
              "      <td>0</td>\n",
              "      <td>0</td>\n",
              "      <td>0</td>\n",
              "      <td>0</td>\n",
              "      <td>0</td>\n",
              "      <td>0</td>\n",
              "      <td>0</td>\n",
              "      <td>0</td>\n",
              "      <td>0</td>\n",
              "      <td>1</td>\n",
              "      <td>0</td>\n",
              "      <td>0</td>\n",
              "      <td>0</td>\n",
              "      <td>1</td>\n",
              "      <td>0</td>\n",
              "      <td>0</td>\n",
              "      <td>0</td>\n",
              "      <td>0</td>\n",
              "    </tr>\n",
              "  </tbody>\n",
              "</table>\n",
              "</div>"
            ],
            "text/plain": [
              "   carat  depth  table  ...  clarity_VS2  clarity_VVS1  clarity_VVS2\n",
              "0   0.23   61.5   55.0  ...            0             0             0\n",
              "1   0.21   59.8   61.0  ...            0             0             0\n",
              "2   0.23   56.9   65.0  ...            0             0             0\n",
              "3   0.29   62.4   58.0  ...            1             0             0\n",
              "4   0.31   63.3   58.0  ...            0             0             0\n",
              "\n",
              "[5 rows x 27 columns]"
            ]
          },
          "metadata": {
            "tags": []
          },
          "execution_count": 13
        }
      ]
    },
    {
      "cell_type": "markdown",
      "metadata": {
        "id": "zz7Jkmzbpau2"
      },
      "source": [
        "**Задача 3.5 (0.2 балла)** Разделите выборку на тренировочную и тестовую. Долю тестовой выборки укажите равной 0.3."
      ]
    },
    {
      "cell_type": "code",
      "metadata": {
        "id": "B3zRUmJPpau4"
      },
      "source": [
        "X = data_dum.drop('price', axis=1)\n",
        "y = data_dum['price']\n",
        "\n",
        "from sklearn.model_selection import train_test_split\n",
        "\n",
        "np.random.seed(0)\n",
        "\n",
        "X_train, X_test, y_train, y_test = train_test_split(X, y, test_size=0.3, train_size=0.7)\n",
        "# Проверил размеры того, что получилось, все ок"
      ],
      "execution_count": null,
      "outputs": []
    },
    {
      "cell_type": "markdown",
      "metadata": {
        "id": "3hcd2v-7pau5"
      },
      "source": [
        "**Задача 3.6 (0.3 балла)** Зачастую при использовании линейных моделей вещественные признаки масштабируются. При этом оценки коэффициентов теряют прямую статистическую интерпретацию (\"при увеличении $X_1$ на 1, $y$ увеличивается на $w_1$\"), но приобретают свойства, полезные в задачах машинного обучения. В этой задаче масштабируйте вещественные признаки тренировочной и тестовой выборок при помощи модуля `StandardScaler`."
      ]
    },
    {
      "cell_type": "code",
      "metadata": {
        "id": "9EPOmZfrpau6",
        "colab": {
          "base_uri": "https://localhost:8080/",
          "height": 435
        },
        "outputId": "48ef5124-df98-4c2c-e275-43b34458445e"
      },
      "source": [
        "from sklearn.preprocessing import StandardScaler\n",
        "\n",
        "scaler = StandardScaler()\n",
        "X_real_norm_np = normalizer.fit_transform(X_train)\n",
        "X_train_norm = pd.DataFrame(data=X_real_norm_np)\n",
        "X_real_norm_pn = normalizer.fit_transform(X_test)\n",
        "X_test_norm = pd.DataFrame(data=X_real_norm_pn)\n",
        "X_train_norm"
      ],
      "execution_count": null,
      "outputs": [
        {
          "output_type": "execute_result",
          "data": {
            "text/html": [
              "<div>\n",
              "<style scoped>\n",
              "    .dataframe tbody tr th:only-of-type {\n",
              "        vertical-align: middle;\n",
              "    }\n",
              "\n",
              "    .dataframe tbody tr th {\n",
              "        vertical-align: top;\n",
              "    }\n",
              "\n",
              "    .dataframe thead th {\n",
              "        text-align: right;\n",
              "    }\n",
              "</style>\n",
              "<table border=\"1\" class=\"dataframe\">\n",
              "  <thead>\n",
              "    <tr style=\"text-align: right;\">\n",
              "      <th></th>\n",
              "      <th>0</th>\n",
              "      <th>1</th>\n",
              "      <th>2</th>\n",
              "      <th>3</th>\n",
              "      <th>4</th>\n",
              "      <th>5</th>\n",
              "      <th>6</th>\n",
              "      <th>7</th>\n",
              "      <th>8</th>\n",
              "      <th>9</th>\n",
              "      <th>10</th>\n",
              "      <th>11</th>\n",
              "      <th>12</th>\n",
              "      <th>13</th>\n",
              "      <th>14</th>\n",
              "      <th>15</th>\n",
              "      <th>16</th>\n",
              "      <th>17</th>\n",
              "      <th>18</th>\n",
              "      <th>19</th>\n",
              "      <th>20</th>\n",
              "      <th>21</th>\n",
              "      <th>22</th>\n",
              "      <th>23</th>\n",
              "      <th>24</th>\n",
              "      <th>25</th>\n",
              "    </tr>\n",
              "  </thead>\n",
              "  <tbody>\n",
              "    <tr>\n",
              "      <th>0</th>\n",
              "      <td>0.445813</td>\n",
              "      <td>0.170523</td>\n",
              "      <td>-0.201734</td>\n",
              "      <td>0.630510</td>\n",
              "      <td>0.540663</td>\n",
              "      <td>0.605461</td>\n",
              "      <td>-0.175564</td>\n",
              "      <td>-0.316757</td>\n",
              "      <td>1.223205</td>\n",
              "      <td>-0.584466</td>\n",
              "      <td>-0.536788</td>\n",
              "      <td>-0.380169</td>\n",
              "      <td>-0.470519</td>\n",
              "      <td>-0.467914</td>\n",
              "      <td>1.954578</td>\n",
              "      <td>-0.424712</td>\n",
              "      <td>-0.335399</td>\n",
              "      <td>-0.232918</td>\n",
              "      <td>-0.119887</td>\n",
              "      <td>-0.185726</td>\n",
              "      <td>-0.565871</td>\n",
              "      <td>-0.453467</td>\n",
              "      <td>2.379167</td>\n",
              "      <td>-0.542516</td>\n",
              "      <td>-0.269914</td>\n",
              "      <td>-0.321994</td>\n",
              "    </tr>\n",
              "    <tr>\n",
              "      <th>1</th>\n",
              "      <td>1.562356</td>\n",
              "      <td>0.588814</td>\n",
              "      <td>-0.649638</td>\n",
              "      <td>1.503049</td>\n",
              "      <td>1.397771</td>\n",
              "      <td>1.519486</td>\n",
              "      <td>-0.175564</td>\n",
              "      <td>-0.316757</td>\n",
              "      <td>1.223205</td>\n",
              "      <td>-0.584466</td>\n",
              "      <td>-0.536788</td>\n",
              "      <td>-0.380169</td>\n",
              "      <td>-0.470519</td>\n",
              "      <td>-0.467914</td>\n",
              "      <td>-0.511619</td>\n",
              "      <td>2.354538</td>\n",
              "      <td>-0.335399</td>\n",
              "      <td>-0.232918</td>\n",
              "      <td>-0.119887</td>\n",
              "      <td>-0.185726</td>\n",
              "      <td>-0.565871</td>\n",
              "      <td>-0.453467</td>\n",
              "      <td>-0.420315</td>\n",
              "      <td>-0.542516</td>\n",
              "      <td>-0.269914</td>\n",
              "      <td>3.105648</td>\n",
              "    </tr>\n",
              "    <tr>\n",
              "      <th>2</th>\n",
              "      <td>0.740749</td>\n",
              "      <td>0.937389</td>\n",
              "      <td>2.485693</td>\n",
              "      <td>0.799676</td>\n",
              "      <td>0.687843</td>\n",
              "      <td>0.858576</td>\n",
              "      <td>-0.175564</td>\n",
              "      <td>-0.316757</td>\n",
              "      <td>-0.817524</td>\n",
              "      <td>-0.584466</td>\n",
              "      <td>1.862933</td>\n",
              "      <td>-0.380169</td>\n",
              "      <td>2.125312</td>\n",
              "      <td>-0.467914</td>\n",
              "      <td>-0.511619</td>\n",
              "      <td>-0.424712</td>\n",
              "      <td>-0.335399</td>\n",
              "      <td>-0.232918</td>\n",
              "      <td>-0.119887</td>\n",
              "      <td>-0.185726</td>\n",
              "      <td>-0.565871</td>\n",
              "      <td>2.205231</td>\n",
              "      <td>-0.420315</td>\n",
              "      <td>-0.542516</td>\n",
              "      <td>-0.269914</td>\n",
              "      <td>-0.321994</td>\n",
              "    </tr>\n",
              "    <tr>\n",
              "      <th>3</th>\n",
              "      <td>-0.818197</td>\n",
              "      <td>-0.805489</td>\n",
              "      <td>-0.201734</td>\n",
              "      <td>-0.838559</td>\n",
              "      <td>-0.775299</td>\n",
              "      <td>-0.871040</td>\n",
              "      <td>-0.175564</td>\n",
              "      <td>-0.316757</td>\n",
              "      <td>1.223205</td>\n",
              "      <td>-0.584466</td>\n",
              "      <td>-0.536788</td>\n",
              "      <td>-0.380169</td>\n",
              "      <td>-0.470519</td>\n",
              "      <td>2.137144</td>\n",
              "      <td>-0.511619</td>\n",
              "      <td>-0.424712</td>\n",
              "      <td>-0.335399</td>\n",
              "      <td>-0.232918</td>\n",
              "      <td>-0.119887</td>\n",
              "      <td>-0.185726</td>\n",
              "      <td>-0.565871</td>\n",
              "      <td>-0.453467</td>\n",
              "      <td>2.379167</td>\n",
              "      <td>-0.542516</td>\n",
              "      <td>-0.269914</td>\n",
              "      <td>-0.321994</td>\n",
              "    </tr>\n",
              "    <tr>\n",
              "      <th>4</th>\n",
              "      <td>-0.544328</td>\n",
              "      <td>-0.178053</td>\n",
              "      <td>-0.201734</td>\n",
              "      <td>-0.437904</td>\n",
              "      <td>-0.411678</td>\n",
              "      <td>-0.435121</td>\n",
              "      <td>-0.175564</td>\n",
              "      <td>-0.316757</td>\n",
              "      <td>1.223205</td>\n",
              "      <td>-0.584466</td>\n",
              "      <td>-0.536788</td>\n",
              "      <td>-0.380169</td>\n",
              "      <td>2.125312</td>\n",
              "      <td>-0.467914</td>\n",
              "      <td>-0.511619</td>\n",
              "      <td>-0.424712</td>\n",
              "      <td>-0.335399</td>\n",
              "      <td>-0.232918</td>\n",
              "      <td>-0.119887</td>\n",
              "      <td>-0.185726</td>\n",
              "      <td>-0.565871</td>\n",
              "      <td>-0.453467</td>\n",
              "      <td>-0.420315</td>\n",
              "      <td>-0.542516</td>\n",
              "      <td>-0.269914</td>\n",
              "      <td>3.105648</td>\n",
              "    </tr>\n",
              "    <tr>\n",
              "      <th>...</th>\n",
              "      <td>...</td>\n",
              "      <td>...</td>\n",
              "      <td>...</td>\n",
              "      <td>...</td>\n",
              "      <td>...</td>\n",
              "      <td>...</td>\n",
              "      <td>...</td>\n",
              "      <td>...</td>\n",
              "      <td>...</td>\n",
              "      <td>...</td>\n",
              "      <td>...</td>\n",
              "      <td>...</td>\n",
              "      <td>...</td>\n",
              "      <td>...</td>\n",
              "      <td>...</td>\n",
              "      <td>...</td>\n",
              "      <td>...</td>\n",
              "      <td>...</td>\n",
              "      <td>...</td>\n",
              "      <td>...</td>\n",
              "      <td>...</td>\n",
              "      <td>...</td>\n",
              "      <td>...</td>\n",
              "      <td>...</td>\n",
              "      <td>...</td>\n",
              "      <td>...</td>\n",
              "    </tr>\n",
              "    <tr>\n",
              "      <th>37753</th>\n",
              "      <td>-0.586462</td>\n",
              "      <td>-0.735774</td>\n",
              "      <td>0.694075</td>\n",
              "      <td>-0.491325</td>\n",
              "      <td>-0.515570</td>\n",
              "      <td>-0.575740</td>\n",
              "      <td>-0.175564</td>\n",
              "      <td>-0.316757</td>\n",
              "      <td>-0.817524</td>\n",
              "      <td>1.710964</td>\n",
              "      <td>-0.536788</td>\n",
              "      <td>-0.380169</td>\n",
              "      <td>-0.470519</td>\n",
              "      <td>2.137144</td>\n",
              "      <td>-0.511619</td>\n",
              "      <td>-0.424712</td>\n",
              "      <td>-0.335399</td>\n",
              "      <td>-0.232918</td>\n",
              "      <td>-0.119887</td>\n",
              "      <td>-0.185726</td>\n",
              "      <td>-0.565871</td>\n",
              "      <td>-0.453467</td>\n",
              "      <td>-0.420315</td>\n",
              "      <td>1.843265</td>\n",
              "      <td>-0.269914</td>\n",
              "      <td>-0.321994</td>\n",
              "    </tr>\n",
              "    <tr>\n",
              "      <th>37754</th>\n",
              "      <td>-0.207259</td>\n",
              "      <td>1.285965</td>\n",
              "      <td>1.141980</td>\n",
              "      <td>-0.126283</td>\n",
              "      <td>-0.195237</td>\n",
              "      <td>-0.041387</td>\n",
              "      <td>-0.175564</td>\n",
              "      <td>3.156992</td>\n",
              "      <td>-0.817524</td>\n",
              "      <td>-0.584466</td>\n",
              "      <td>-0.536788</td>\n",
              "      <td>2.630408</td>\n",
              "      <td>-0.470519</td>\n",
              "      <td>-0.467914</td>\n",
              "      <td>-0.511619</td>\n",
              "      <td>-0.424712</td>\n",
              "      <td>-0.335399</td>\n",
              "      <td>-0.232918</td>\n",
              "      <td>-0.119887</td>\n",
              "      <td>-0.185726</td>\n",
              "      <td>1.767188</td>\n",
              "      <td>-0.453467</td>\n",
              "      <td>-0.420315</td>\n",
              "      <td>-0.542516</td>\n",
              "      <td>-0.269914</td>\n",
              "      <td>-0.321994</td>\n",
              "    </tr>\n",
              "    <tr>\n",
              "      <th>37755</th>\n",
              "      <td>-1.007799</td>\n",
              "      <td>-0.317483</td>\n",
              "      <td>0.246171</td>\n",
              "      <td>-1.230311</td>\n",
              "      <td>-1.164894</td>\n",
              "      <td>-1.208526</td>\n",
              "      <td>-0.175564</td>\n",
              "      <td>-0.316757</td>\n",
              "      <td>-0.817524</td>\n",
              "      <td>1.710964</td>\n",
              "      <td>-0.536788</td>\n",
              "      <td>-0.380169</td>\n",
              "      <td>-0.470519</td>\n",
              "      <td>-0.467914</td>\n",
              "      <td>-0.511619</td>\n",
              "      <td>-0.424712</td>\n",
              "      <td>2.981522</td>\n",
              "      <td>-0.232918</td>\n",
              "      <td>-0.119887</td>\n",
              "      <td>-0.185726</td>\n",
              "      <td>-0.565871</td>\n",
              "      <td>-0.453467</td>\n",
              "      <td>2.379167</td>\n",
              "      <td>-0.542516</td>\n",
              "      <td>-0.269914</td>\n",
              "      <td>-0.321994</td>\n",
              "    </tr>\n",
              "    <tr>\n",
              "      <th>37756</th>\n",
              "      <td>-0.818197</td>\n",
              "      <td>-0.526628</td>\n",
              "      <td>-0.201734</td>\n",
              "      <td>-0.820753</td>\n",
              "      <td>-0.818588</td>\n",
              "      <td>-0.856978</td>\n",
              "      <td>-0.175564</td>\n",
              "      <td>-0.316757</td>\n",
              "      <td>1.223205</td>\n",
              "      <td>-0.584466</td>\n",
              "      <td>-0.536788</td>\n",
              "      <td>-0.380169</td>\n",
              "      <td>-0.470519</td>\n",
              "      <td>-0.467914</td>\n",
              "      <td>1.954578</td>\n",
              "      <td>-0.424712</td>\n",
              "      <td>-0.335399</td>\n",
              "      <td>-0.232918</td>\n",
              "      <td>-0.119887</td>\n",
              "      <td>5.384280</td>\n",
              "      <td>-0.565871</td>\n",
              "      <td>-0.453467</td>\n",
              "      <td>-0.420315</td>\n",
              "      <td>-0.542516</td>\n",
              "      <td>-0.269914</td>\n",
              "      <td>-0.321994</td>\n",
              "    </tr>\n",
              "    <tr>\n",
              "      <th>37757</th>\n",
              "      <td>0.235145</td>\n",
              "      <td>-0.456913</td>\n",
              "      <td>-1.097543</td>\n",
              "      <td>0.452441</td>\n",
              "      <td>0.393483</td>\n",
              "      <td>0.366409</td>\n",
              "      <td>-0.175564</td>\n",
              "      <td>-0.316757</td>\n",
              "      <td>1.223205</td>\n",
              "      <td>-0.584466</td>\n",
              "      <td>-0.536788</td>\n",
              "      <td>-0.380169</td>\n",
              "      <td>-0.470519</td>\n",
              "      <td>2.137144</td>\n",
              "      <td>-0.511619</td>\n",
              "      <td>-0.424712</td>\n",
              "      <td>-0.335399</td>\n",
              "      <td>-0.232918</td>\n",
              "      <td>-0.119887</td>\n",
              "      <td>-0.185726</td>\n",
              "      <td>-0.565871</td>\n",
              "      <td>2.205231</td>\n",
              "      <td>-0.420315</td>\n",
              "      <td>-0.542516</td>\n",
              "      <td>-0.269914</td>\n",
              "      <td>-0.321994</td>\n",
              "    </tr>\n",
              "  </tbody>\n",
              "</table>\n",
              "<p>37758 rows × 26 columns</p>\n",
              "</div>"
            ],
            "text/plain": [
              "             0         1         2   ...        23        24        25\n",
              "0      0.445813  0.170523 -0.201734  ... -0.542516 -0.269914 -0.321994\n",
              "1      1.562356  0.588814 -0.649638  ... -0.542516 -0.269914  3.105648\n",
              "2      0.740749  0.937389  2.485693  ... -0.542516 -0.269914 -0.321994\n",
              "3     -0.818197 -0.805489 -0.201734  ... -0.542516 -0.269914 -0.321994\n",
              "4     -0.544328 -0.178053 -0.201734  ... -0.542516 -0.269914  3.105648\n",
              "...         ...       ...       ...  ...       ...       ...       ...\n",
              "37753 -0.586462 -0.735774  0.694075  ...  1.843265 -0.269914 -0.321994\n",
              "37754 -0.207259  1.285965  1.141980  ... -0.542516 -0.269914 -0.321994\n",
              "37755 -1.007799 -0.317483  0.246171  ... -0.542516 -0.269914 -0.321994\n",
              "37756 -0.818197 -0.526628 -0.201734  ... -0.542516 -0.269914 -0.321994\n",
              "37757  0.235145 -0.456913 -1.097543  ... -0.542516 -0.269914 -0.321994\n",
              "\n",
              "[37758 rows x 26 columns]"
            ]
          },
          "metadata": {
            "tags": []
          },
          "execution_count": 15
        }
      ]
    },
    {
      "cell_type": "markdown",
      "metadata": {
        "id": "xUeZ-l7vpau7"
      },
      "source": [
        "**Задача 3.7 (0.2 балла)** Оцените линейную регрессию на тренировочной выборке. Выведите среднеквадратичную ошибку на тренировочной и тестовой выборках."
      ]
    },
    {
      "cell_type": "code",
      "metadata": {
        "id": "K0t5HAvzpau7",
        "colab": {
          "base_uri": "https://localhost:8080/"
        },
        "outputId": "dd9d6a6e-648b-4edc-f2f3-12aeb62e8473"
      },
      "source": [
        "from sklearn.linear_model import LinearRegression\n",
        "from sklearn.metrics import mean_squared_error\n",
        "\n",
        "lr = LinearRegression().fit(X_train_norm,y_train)\n",
        "print (\"Train: {}\".format(mean_squared_error(y_train, lr.predict(X_train_norm))))\n",
        "print (\"Test: {}\".format(mean_squared_error(y_test, lr.predict(X_test_norm))))\n",
        "\n"
      ],
      "execution_count": null,
      "outputs": [
        {
          "output_type": "stream",
          "text": [
            "Train: 1284661.862119126\n",
            "Test: 1259417.9837047698\n"
          ],
          "name": "stdout"
        }
      ]
    },
    {
      "cell_type": "markdown",
      "metadata": {
        "id": "oyx9Gg7ppau8"
      },
      "source": [
        "\n",
        "**Задача 3.8 (0.2 балла)** Изучите документацию модуля `LinearRegression` и выведите полученные оценки коэффициентов. Назовите вещественные переменные, оценки коэффициентов которых по модулю на порядок превышают оценки прочих вещественных переменных."
      ]
    },
    {
      "cell_type": "code",
      "metadata": {
        "id": "xL1KsUTqpau9",
        "colab": {
          "base_uri": "https://localhost:8080/"
        },
        "outputId": "e29eab2e-cdcc-4684-93e5-1e875bbf249b"
      },
      "source": [
        "i = 0\n",
        "while i != 26:\n",
        "    print(X.columns[i], abs(lr.coef_[i]))\n",
        "    i += 1\n",
        "\n",
        "# Я все понимаю, просто других способов в голову не пришло, но тут все видно и все отобразилось верно\n",
        "# Значения проверил, они какие-то странные, но код, через который я их получал вроде как верный\n",
        "# Литералли на порядок превышают X и carat. Могу также сказать, что в целом значения перекодированных признаков выше"
      ],
      "execution_count": null,
      "outputs": [
        {
          "output_type": "stream",
          "text": [
            "carat 5278.119983938954\n",
            "depth 94.26693610935274\n",
            "table 65.6183722683892\n",
            "x 1050.0247597557245\n",
            "y 2.6473797066538194\n",
            "z 40.568622988910526\n",
            "cut_Fair 117.6574749016424\n",
            "cut_Good 42.94686904593672\n",
            "cut_Ideal 51.432728951434015\n",
            "cut_Premium 13.49246726056724\n",
            "cut_Very Good 3.1698059148022306\n",
            "color_D 198.6667838064939\n",
            "color_E 160.82851983011415\n",
            "color_F 138.64446872336958\n",
            "color_G 59.826136568444255\n",
            "color_H 124.32005476575863\n",
            "color_I 250.4451528298561\n",
            "color_J 385.58790594687537\n",
            "clarity_I1 474.51806798923144\n",
            "clarity_IF 236.73479731156294\n",
            "clarity_SI1 147.68717065793058\n",
            "clarity_SI2 493.87810378921563\n",
            "clarity_VS1 206.29079770915044\n",
            "clarity_VS2 107.97996454838012\n",
            "clarity_VVS1 253.24967218797136\n",
            "clarity_VVS2 274.14108133851107\n"
          ],
          "name": "stdout"
        }
      ]
    },
    {
      "cell_type": "markdown",
      "metadata": {
        "id": "ydUxblo9pau9"
      },
      "source": [
        "**Задача 3.9 (0.4 балла)** Как можно заметить из анализа корреляционной матрицы в задаче 3.3, между некоторыми признаками имеется сильная корреляция, что может быть индикатором проблемы *мультиколлинеарности*. Различия в порядке коэффициентов, выявленные в предыдущей задаче также намекают на её присутствие. Как известно, для решения этой проблемы можно либо исключить некоторые признаки из модели, либо использовать регуляризацию. Мы воспользуемся вторым вариантом. \n",
        "\n",
        "Вспомним, что смысл регуляризации заключается в том, чтобы изменить функцию потерь так, чтобы устранить проблемы, появляющиеся из-за мультиколлинеарности. При L1-регуляризации предлагается минимизировать следующую функцию потерь:\n",
        "\n",
        "$$\n",
        "\\|y - X\\hat{w}\\|^2 + \\alpha\\sum_{i=1}^k|w_i|\n",
        "$$\n",
        "\n",
        "Такая модель называется Lasso-регрессией.\n",
        "\n",
        "При L2-регуляризации предлагается минимизировать следующую функцию потерь:\n",
        "\n",
        "$$\n",
        "\\|y - X\\hat{w}\\|^2 + \\frac{1}{2}\\alpha\\|w\\|^2\n",
        "$$\n",
        "\n",
        "Такая модель называется Ridge-регрессией. \n",
        "\n",
        "Обучите Lasso-регрессию и Ridge-регрессию, уставновив гиперпараметр регуляризации равным 10. Для этого используйте модули `Lasso` и `Ridge` из `sklearn`. Сильно ли уменьшились веса? Сделайте вывод о том, насколько сильно проблема мультиколлинеарности проявлялась в изначальной регрессии."
      ]
    },
    {
      "cell_type": "code",
      "metadata": {
        "colab": {
          "base_uri": "https://localhost:8080/"
        },
        "id": "NxPcV8G1EQQu",
        "outputId": "dec28127-aab2-4783-8226-df50c4b60d59"
      },
      "source": [
        "from sklearn.linear_model import Lasso, Ridge\n",
        "\n",
        "lr_lasso = Lasso(10.0).fit(X_train_norm, y_train)\n",
        "lr_ridge = Ridge(10.0).fit(X_train_norm, y_train)\n",
        "i = 0\n",
        "n = 0\n",
        "while i != 26:\n",
        "  print(\"Lasso:\", X.columns[i], lr_lasso.coef_[i])\n",
        "  i += 1\n",
        "while n != 26:\n",
        "  print(\"Ridge:\", X.columns[n], lr_ridge.coef_[n])\n",
        "  n += 1\n"
      ],
      "execution_count": null,
      "outputs": [
        {
          "output_type": "stream",
          "text": [
            "Lasso: carat 4817.915546007359\n",
            "Lasso: depth -61.3293609107025\n",
            "Lasso: table -52.851035145067144\n",
            "Lasso: x -603.8288752494609\n",
            "Lasso: y -0.0\n",
            "Lasso: z -49.861981067729104\n",
            "Lasso: cut_Fair -119.35506394196604\n",
            "Lasso: cut_Good -43.87824160171695\n",
            "Lasso: cut_Ideal 42.04877231638149\n",
            "Lasso: cut_Premium 0.0\n",
            "Lasso: cut_Very Good -0.0\n",
            "Lasso: color_D 132.17822790765013\n",
            "Lasso: color_E 87.59862795287549\n",
            "Lasso: color_F 64.6504572177587\n",
            "Lasso: color_G -0.0\n",
            "Lasso: color_H -170.38283084337598\n",
            "Lasso: color_I -281.0198002486517\n",
            "Lasso: color_J -402.99172244948966\n",
            "Lasso: clarity_I1 -492.2514645646717\n",
            "Lasso: clarity_IF 183.95327159741743\n",
            "Lasso: clarity_SI1 -259.6506047995805\n",
            "Lasso: clarity_SI2 -582.090137825929\n",
            "Lasso: clarity_VS1 101.01732550528884\n",
            "Lasso: clarity_VS2 -0.0\n",
            "Lasso: clarity_VVS1 183.4956168770414\n",
            "Lasso: clarity_VVS2 191.76300352174115\n",
            "Ridge: carat 5241.743116048574\n",
            "Ridge: depth -91.79815462067565\n",
            "Ridge: table -65.35375207998177\n",
            "Ridge: x -1008.6854536371052\n",
            "Ridge: y -4.878162973932083\n",
            "Ridge: z -44.35699366849743\n",
            "Ridge: cut_Fair -117.9041800500477\n",
            "Ridge: cut_Good -43.01917591676268\n",
            "Ridge: cut_Ideal 51.43394758175378\n",
            "Ridge: cut_Premium 13.49331505517189\n",
            "Ridge: cut_Very Good 3.318267253993243\n",
            "Ridge: color_D 198.42606537890163\n",
            "Ridge: color_E 160.59170976843674\n",
            "Ridge: color_F 138.2092257576216\n",
            "Ridge: color_G 59.581001900529195\n",
            "Ridge: color_H -124.11160074609313\n",
            "Ridge: color_I -249.78127128647913\n",
            "Ridge: color_J -384.8523653559009\n",
            "Ridge: clarity_I1 -474.0346857118797\n",
            "Ridge: clarity_IF 237.09711884333515\n",
            "Ridge: clarity_SI1 -148.24261538178084\n",
            "Ridge: clarity_SI2 -493.72827471176544\n",
            "Ridge: clarity_VS1 206.12584114669295\n",
            "Ridge: clarity_VS2 107.82311151250116\n",
            "Ridge: clarity_VVS1 253.72208101551243\n",
            "Ridge: clarity_VVS2 274.3651148906449\n"
          ],
          "name": "stdout"
        }
      ]
    },
    {
      "cell_type": "markdown",
      "metadata": {
        "id": "RnO9ye4ZEYmN"
      },
      "source": [
        "Веса существенно уменьшились. В изначальной регрессии проблема мультиколлинеарности проявлялась очень сильно, это видно как минимум по матрице корреляции"
      ]
    },
    {
      "cell_type": "markdown",
      "metadata": {
        "id": "06q7W5R0pau_"
      },
      "source": [
        "**Задача 3.10 (0.4 балла)** Как обсуждалось на семинарах, Lasso-регрессию можно использовать для отбора наиболее информативных признаков. Для следующих значений параметра регуляриазции $\\alpha$: 0.1, 1, 10, 100, 200 –  обучите Lasso- и Ridge-регрессии и постройте график измненения евклидовой нормы весов (`np.linalg.norm()` от вектора оценок коэффициентов) в зависимости от параметра $\\alpha$. Как известно, норма является численной характеристикой величины вектора, а потому по норме можно судить о том, насколько большие элементы содержит вектор оценок коэффициентов. \n",
        "\n",
        "Какой метод агрессивнее уменьшает веса? Поясните, почему Lasso-регрессию часто используют для отбора признаков."
      ]
    },
    {
      "cell_type": "code",
      "metadata": {
        "id": "IgbFAbOipau-",
        "colab": {
          "base_uri": "https://localhost:8080/",
          "height": 337
        },
        "outputId": "fe7ebc63-f5e3-4064-9ac8-eddee6cbe332"
      },
      "source": [
        "lasso = []\n",
        "ridge = []\n",
        "par_reg = [0.1, 1, 10, 100, 200]\n",
        "for i in par_reg:\n",
        "  lr_lasso = Lasso(i).fit(X_train_norm, y_train)\n",
        "  lr_ridge = Ridge(i).fit(X_train_norm, y_train)\n",
        "  lasso.append(np.linalg.norm(lr_lasso.coef_))\n",
        "  ridge.append(np.linalg.norm(lr_ridge.coef_))\n",
        "\n",
        "y1 = plt.plot(par_reg, lasso, color='c', label = 'Lasso')\n",
        "y2 = plt.plot(par_reg, ridge, color='m', label = 'Ridge')\n",
        "\n",
        "plt.legend()\n"
      ],
      "execution_count": null,
      "outputs": [
        {
          "output_type": "stream",
          "text": [
            "/usr/local/lib/python3.7/dist-packages/sklearn/linear_model/_coordinate_descent.py:476: ConvergenceWarning: Objective did not converge. You might want to increase the number of iterations. Duality gap: 254169305.8648224, tolerance: 60080607.47091246\n",
            "  positive)\n"
          ],
          "name": "stderr"
        },
        {
          "output_type": "execute_result",
          "data": {
            "text/plain": [
              "<matplotlib.legend.Legend at 0x7f046a837c50>"
            ]
          },
          "metadata": {
            "tags": []
          },
          "execution_count": 19
        },
        {
          "output_type": "display_data",
          "data": {
            "image/png": "[encoded data removed]",
            "text/plain": [
              "<Figure size 432x288 with 1 Axes>"
            ]
          },
          "metadata": {
            "tags": [],
            "needs_background": "light"
          }
        }
      ]
    },
    {
      "cell_type": "code",
      "metadata": {
        "id": "u-ZZSRxHpavA"
      },
      "source": [
        "Из графика очевидно, что Лассо агрессивнее уменьшает веса. Лассо-регрессию используют довольно часто тогда, когда требуется \n",
        "сократить количество признаков (Лассо может их занулять) и сконцентрироваться на основных."
      ],
      "execution_count": null,
      "outputs": []
    },
    {
      "cell_type": "markdown",
      "metadata": {
        "id": "dRUn9XrLpavA"
      },
      "source": [
        "**Задача 3.11 (0.5 балла)** \n",
        "В зависимости от значения параметра $\\alpha$ в Lasso-регрессии зануляются разные оценки коэффициентов. Оптимальное значение $\\alpha$ можно подобрать, например, при помощи кросс-валидации по тренировочной выборке. \n",
        "\n",
        "Для проведения кросс-валидации можно использовать модуль `LassoCV`. Этот модуль принимает список значений $\\alpha$ (параметр `alphas`) и при обучении проводит кросс-валидацию для каждого значения из этого списка, сохраняя MSE на каждом участке кросс-валидации (количество участков – параметр `cv`) в матрицу ошибок (то есть итоговая матрица будет иметь размер `len(alphas)` $\\times$ `cv`). После обучения модели матрицу ошибок можно получить, обратившись к атрибуту `.mse_path_`. \n",
        "\n",
        "Заметим, что модель может использовать $\\alpha$ не в том порядке, в котором вы подаёте их в функцию: для определения порядка используйте атрибут `.alphas_` Установите количество участков для кросс-валидации (параметр `cv`) равным 5.\n",
        "\n",
        "Усредните ошибки для каждого значения $\\alpha$ (то есть по строкам матрицы ошибок) и выберите то значение, которое даёт наибольшее качество. "
      ]
    },
    {
      "cell_type": "code",
      "metadata": {
        "id": "tgrobtqJpavB",
        "colab": {
          "base_uri": "https://localhost:8080/"
        },
        "outputId": "515bff95-7d4c-40c9-9494-7b0d7d9b4cb7"
      },
      "source": [
        "from sklearn.linear_model import LassoCV\n",
        "\n",
        "lasso_cv = LassoCV(cv=5, alphas = par_reg)\n",
        "lasso_cv.fit(X_train_norm, y_train)\n",
        "i = 0\n",
        "while i != 5:\n",
        "  print(par_reg[i], lasso_cv.mse_path_.mean(axis=0)[i])\n",
        "  i += 1\n",
        "\n",
        "# Очевидно, что значение 100 дает наилучшее качество"
      ],
      "execution_count": null,
      "outputs": [
        {
          "output_type": "stream",
          "text": [
            "/usr/local/lib/python3.7/dist-packages/sklearn/linear_model/_coordinate_descent.py:472: ConvergenceWarning: Objective did not converge. You might want to increase the number of iterations. Duality gap: 1118783727.7994995, tolerance: 48309472.87280814\n",
            "  tol, rng, random, positive)\n"
          ],
          "name": "stderr"
        },
        {
          "output_type": "stream",
          "text": [
            "0.1 1564367.6592902022\n",
            "1 1417934.7480127926\n",
            "10 1524788.540636396\n",
            "100 1406284.5939364005\n",
            "200 1453033.634159984\n"
          ],
          "name": "stdout"
        }
      ]
    },
    {
      "cell_type": "markdown",
      "metadata": {
        "id": "VgrWkaM_pavC"
      },
      "source": [
        "**Задача 3.12 (0.5 балла)** Обучите итоговую Lasso-регрессию с выбранным параметром $\\alpha$ на тренировочной выборке. Выведите полученные коэффициенты и прокомментируйте, какие признаки оказались неинформативными, а какие – наиболее информативными. Приведите возможное смысловое объяснение этого результата."
      ]
    },
    {
      "cell_type": "code",
      "metadata": {
        "id": "vbiblY_EpavC",
        "colab": {
          "base_uri": "https://localhost:8080/"
        },
        "outputId": "90ddb1d0-5de1-4899-b2f6-90cf5c54fcd3"
      },
      "source": [
        "lasso_train =  Lasso(100.0).fit(X_train_norm, y_train)\n",
        "\n",
        "i = 0\n",
        "while i != 26:\n",
        "  print(X.columns[i], lasso_train.coef_[i])\n",
        "  i += 1"
      ],
      "execution_count": null,
      "outputs": [
        {
          "output_type": "stream",
          "text": [
            "carat 3891.256415536465\n",
            "depth -0.0\n",
            "table -0.0\n",
            "x 0.0\n",
            "y 0.0\n",
            "z 0.0\n",
            "cut_Fair -67.53175063268532\n",
            "cut_Good -0.0\n",
            "cut_Ideal 21.45089850466501\n",
            "cut_Premium -0.0\n",
            "cut_Very Good -0.0\n",
            "color_D 0.1290520689941739\n",
            "color_E 0.0\n",
            "color_F 0.0\n",
            "color_G 0.0\n",
            "color_H -83.7043087592599\n",
            "color_I -163.21841257416233\n",
            "color_J -280.7312717866309\n",
            "clarity_I1 -393.28103582590984\n",
            "clarity_IF 72.67632662848872\n",
            "clarity_SI1 -208.56933492444517\n",
            "clarity_SI2 -469.1972112239046\n",
            "clarity_VS1 0.0\n",
            "clarity_VS2 -0.0\n",
            "clarity_VVS1 69.19344061307667\n",
            "clarity_VVS2 89.65975911602587\n"
          ],
          "name": "stdout"
        }
      ]
    },
    {
      "cell_type": "markdown",
      "metadata": {
        "id": "XgzayMCoT8_c"
      },
      "source": [
        "Мы видим, что многие признаки, которые изначально были категориальными, в результате Лассо регрессии обнулились. Как и следовало ожидать, основной вклад в стоимость бриллианта вносит его масса. Есть много классов clarity (как я понимаю, прозрачность) бриллианта. Видимо, это важный признак.\n",
        "Можем заметить, что цвет почти никак не влияет на стоимость. Зато, что более чем ожидаемо, плохая работа огранщика сильно снижает цену бриллианта.\n",
        "\n",
        "У нас решена проблема мультиколлинеарности: x,y,z (высокая коррреляция с ценой) обнулены, поскольку имеют также высокую корреляцию с каратностью (по сути, Lasso избавил нас от четверного учета размеров бриллианта). Убирание Table и Depth тоже снижает мультиколлинеарность. "
      ]
    },
    {
      "cell_type": "markdown",
      "metadata": {
        "id": "3TOQaiudpavD"
      },
      "source": [
        "**Задача 3.13 (0.4 балла)** Сделайте предсказания обученной Lasso-регрессии на тестовой выборке и сравните среднеквадратичную ошибку с ошибкой обычной линейной регрессии из задачи 3.7. Какую модель лучше использовать для предсказаний? Приведите возможное объяснение, почему одна модель оказалась лучше другой."
      ]
    },
    {
      "cell_type": "code",
      "metadata": {
        "id": "YdlN6zhgpavE",
        "colab": {
          "base_uri": "https://localhost:8080/"
        },
        "outputId": "bf1cdd42-8658-4a77-c29d-f3cb04a5388c"
      },
      "source": [
        "print(\"Test: {}\".format(mean_squared_error(y_test, lasso_train.predict(X_test_norm))))\n"
      ],
      "execution_count": null,
      "outputs": [
        {
          "output_type": "stream",
          "text": [
            "Test: 1521602.6513050676\n"
          ],
          "name": "stdout"
        }
      ]
    },
    {
      "cell_type": "markdown",
      "metadata": {
        "id": "U62U9xECXTTj"
      },
      "source": [
        "Очевидно, что Lasso оказалась хуже обычной линейной регресии, разница составила примерно 25%. Исходя из этого факта, лучше использовать обычную линейную регрессию. Скорее всего, такой результат объясняется слишком большой потерей признаков в результате применения Lasso\n",
        "\n"
      ]
    }
  ]
}
